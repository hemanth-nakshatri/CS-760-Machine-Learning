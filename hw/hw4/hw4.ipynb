{
 "cells": [
  {
   "cell_type": "code",
   "execution_count": 30,
   "metadata": {},
   "outputs": [
    {
     "name": "stdout",
     "output_type": "stream",
     "text": [
      "Prior Probabilities =  {'e': 0.3333333333333333, 'j': 0.3333333333333333, 's': 0.3333333333333333}\n",
      "Total Test documents = 30\n",
      "Correct Predictions = 30\n",
      "Errors =  0\n"
     ]
    }
   ],
   "source": [
    "import os\n",
    "import numpy as np\n",
    "\n",
    "# Step 1: Load and preprocess the dataset\n",
    "\n",
    "def load_dataset(data_dir):\n",
    "    dataset = []\n",
    "    labels = []\n",
    "    for filename in os.listdir(data_dir):\n",
    "        if filename.endswith(\".txt\"):\n",
    "            with open(os.path.join(data_dir, filename), \"r\", encoding=\"utf-8\") as file:\n",
    "                text = file.read()\n",
    "                # Extract the language label from the filename\n",
    "                label = filename[0]\n",
    "                if filename[1] != '1'  and filename[2] == '.':\n",
    "                    dataset.append(text)\n",
    "                    labels.append(label)\n",
    "    return dataset, labels\n",
    "\n",
    "data_dir = \"./languageID/\"\n",
    "documents, labels = load_dataset(data_dir)\n",
    "\n",
    "\n",
    "# Step 2: Calculate character frequencies for each language\n",
    "\n",
    "def calculate_char_frequencies(documents, labels):\n",
    "    char_frequencies = {}\n",
    "    total_documents = len(documents)\n",
    "    \n",
    "    for i in range(total_documents):\n",
    "        document = documents[i]\n",
    "        label = labels[i]\n",
    "        char_count = {}\n",
    "        \n",
    "        for char in document:\n",
    "            if char.isalpha() or char == ' ':\n",
    "                if char in char_count:\n",
    "                    char_count[char] += 1\n",
    "                else:\n",
    "                    char_count[char] = 1\n",
    "        \n",
    "        if label in char_frequencies:\n",
    "            for char, count in char_count.items():\n",
    "                if char in char_frequencies[label]:\n",
    "                    char_frequencies[label][char] += count\n",
    "                else:\n",
    "                    char_frequencies[label][char] = count\n",
    "        else:\n",
    "            char_frequencies[label] = char_count\n",
    "    \n",
    "    return char_frequencies\n",
    "\n",
    "char_frequencies = calculate_char_frequencies(documents, labels)\n",
    "\n",
    "# Step 3: Train the Naive Bayes classifier using character frequencies\n",
    "\n",
    "def train_naive_bayes(char_frequencies):\n",
    "    # Calculate total character counts for each language\n",
    "    language_char_counts = {}\n",
    "    for label, char_count in char_frequencies.items():\n",
    "        total_chars = sum(char_count.values())\n",
    "        language_char_counts[label] = total_chars\n",
    "    \n",
    "    # Calculate the prior probabilities for each language\n",
    "    total_documents = len(documents)\n",
    "    prior_probabilities = {}\n",
    "    for label, char_count in char_frequencies.items():\n",
    "        prior_probabilities[label] = len([l for l in labels if l == label]) / total_documents\n",
    "    \n",
    "    return char_frequencies, language_char_counts, prior_probabilities\n",
    "\n",
    "char_frequencies, language_char_counts, prior_probabilities = train_naive_bayes(char_frequencies)\n",
    "\n",
    "# Step 4: Classify new documents based on character frequencies\n",
    "\n",
    "def classify_document(document, char_frequencies, language_char_counts, prior_probabilities):\n",
    "    best_label = None\n",
    "    best_log_prob = float(\"-inf\")\n",
    "    \n",
    "    for label, char_count in char_frequencies.items():\n",
    "        log_prob = np.log(prior_probabilities[label])\n",
    "        \n",
    "        for char in document:\n",
    "            if char.isalpha() or char == ' ':\n",
    "                if char in char_count:\n",
    "                    char_prob = (char_count[char] + 0.5) / (language_char_counts[label] + 1.5)  # 27 characters in the vocabulary\n",
    "                else:\n",
    "                    char_prob = 0.5 / (language_char_counts[label] + 1.5)\n",
    "                \n",
    "                log_prob += np.log(char_prob)\n",
    "        \n",
    "        if log_prob > best_log_prob:\n",
    "            best_log_prob = log_prob\n",
    "            best_label = label\n",
    "    \n",
    "    return best_label\n",
    "\n",
    "def load_test_dataset(data_dir):\n",
    "    dataset = []\n",
    "    labels = []\n",
    "    for filename in os.listdir(data_dir):\n",
    "        if filename.endswith(\".txt\") and (filename[1] == '1' and filename[2] != '.'):\n",
    "            with open(os.path.join(data_dir, filename), \"r\", encoding=\"utf-8\") as file:\n",
    "                text = file.read()\n",
    "                # Extract the language label from the filename\n",
    "                label = filename[0]\n",
    "                # if filename[1] == 1:\n",
    "                dataset.append(text)\n",
    "                labels.append(label)\n",
    "    return dataset, labels\n",
    "\n",
    "# Example usage\n",
    "test_document = \"\"\"\n",
    "Just testing\n",
    "\"\"\"\n",
    "print(\"Prior Probabilities = \", prior_probabilities)\n",
    "test_docs, labels = load_test_dataset(\"./languageID/\")\n",
    "y_test_conf=labels[:]\n",
    "print(\"Total Test documents =\", len(test_docs))\n",
    "err = 0\n",
    "for i in range(len(test_docs)):\n",
    "    predicted_language = classify_document(test_docs[i], char_frequencies, language_char_counts, prior_probabilities)\n",
    "    # print(f\"The document is classified as {predicted_language} language.\", \"Actual Language = \", labels[i])\n",
    "    if predicted_language != labels[i]:\n",
    "        err += 1\n",
    "print(\"Correct Predictions =\", len(test_docs) - err)\n",
    "print(\"Errors = \", err)\n"
   ]
  },
  {
   "cell_type": "markdown",
   "metadata": {},
   "source": [
    "#### Question 3.2"
   ]
  },
  {
   "cell_type": "code",
   "execution_count": 31,
   "metadata": {},
   "outputs": [
    {
     "name": "stdout",
     "output_type": "stream",
     "text": [
      "English- Class Conditional Probability = \n"
     ]
    },
    {
     "data": {
      "text/plain": [
       "{'a': 0.05946366109599689,\n",
       " 'b': 0.011553545560541285,\n",
       " 'c': 0.022294456418047556,\n",
       " 'd': 0.02187047309472494,\n",
       " 'e': 0.10504186835317811,\n",
       " 'f': 0.019114581493127936,\n",
       " 'g': 0.018125287072041835,\n",
       " 'h': 0.047097480832420595,\n",
       " 'i': 0.05564781118609335,\n",
       " 'j': 0.0013072819135780658,\n",
       " 'k': 0.003921845740734198,\n",
       " 'l': 0.029431509027311592,\n",
       " 'm': 0.020174539801434476,\n",
       " 'n': 0.0588983499982334,\n",
       " 'o': 0.06476345263752958,\n",
       " 'p': 0.01706532876373529,\n",
       " 'q': 0.000600643041373706,\n",
       " 'r': 0.05352789456948027,\n",
       " 's': 0.06561141928417483,\n",
       " 't': 0.07953220506660072,\n",
       " 'u': 0.026604953538494153,\n",
       " 'v': 0.009504292831148642,\n",
       " 'w': 0.0155107232448857,\n",
       " 'x': 0.00123661802635763,\n",
       " 'y': 0.013461470515493058,\n",
       " 'z': 0.000600643041373706,\n",
       " ' ': 0.17888563049853373}"
      ]
     },
     "execution_count": 31,
     "metadata": {},
     "output_type": "execute_result"
    }
   ],
   "source": [
    "theta_e = []\n",
    "for i in 'abcdefghijklmnopqrstuvwxyz ':\n",
    "    theta_e.append((i, (char_frequencies['e'][i] + 0.5) / (1.5 + language_char_counts['e'])))\n",
    "print(\"English- Class Conditional Probability = \")\n",
    "# print(theta_e)\n",
    "\n",
    "theta_english = {}\n",
    "for i in theta_e:\n",
    "    theta_english[i[0]] = i[1]\n",
    "theta_english"
   ]
  },
  {
   "cell_type": "markdown",
   "metadata": {},
   "source": [
    "#### Question 3.3"
   ]
  },
  {
   "cell_type": "code",
   "execution_count": 32,
   "metadata": {},
   "outputs": [
    {
     "name": "stdout",
     "output_type": "stream",
     "text": [
      "Spanish - Class Conditional Probability = \n"
     ]
    },
    {
     "data": {
      "text/plain": [
       "{'a': 0.10569930661254862,\n",
       " 'b': 0.008286825638423811,\n",
       " 'c': 0.037104684593269065,\n",
       " 'd': 0.03879587349906985,\n",
       " 'e': 0.11354642313546423,\n",
       " 'f': 0.008489768307119906,\n",
       " 'g': 0.007475054963639438,\n",
       " 'h': 0.004701505158126163,\n",
       " 'i': 0.04982242516489092,\n",
       " 'j': 0.006798579401319127,\n",
       " 'k': 0.00030441400304414006,\n",
       " 'l': 0.05340774564518857,\n",
       " 'm': 0.025334009808895653,\n",
       " 'n': 0.05408422120750888,\n",
       " 'o': 0.0726196516150854,\n",
       " 'p': 0.02445459157787925,\n",
       " 'q': 0.007948587857263656,\n",
       " 'r': 0.05902249281244715,\n",
       " 's': 0.0654490106544901,\n",
       " 't': 0.03588702858109251,\n",
       " 'u': 0.033789954337899546,\n",
       " 'v': 0.005851513614070692,\n",
       " 'w': 0.00010147133434804668,\n",
       " 'x': 0.0025367833587011668,\n",
       " 'y': 0.007677997632335532,\n",
       " 'z': 0.0028750211398613224,\n",
       " ' ': 0.16874682902080163}"
      ]
     },
     "execution_count": 32,
     "metadata": {},
     "output_type": "execute_result"
    }
   ],
   "source": [
    "theta_s = []\n",
    "for i in 'abcdefghijklmnopqrstuvwxyz ':\n",
    "    theta_s.append((i, (char_frequencies['s'][i] + 0.5) / (1.5 + language_char_counts['s'])))\n",
    "print(\"Spanish - Class Conditional Probability = \")\n",
    "\n",
    "\n",
    "theta_spanish = {}\n",
    "for i in theta_s:\n",
    "    theta_spanish[i[0]] = i[1]\n",
    "theta_spanish"
   ]
  },
  {
   "cell_type": "code",
   "execution_count": 33,
   "metadata": {},
   "outputs": [
    {
     "name": "stdout",
     "output_type": "stream",
     "text": [
      "Japanese - Class Conditional Probability = \n"
     ]
    },
    {
     "data": {
      "text/plain": [
       "{'a': 0.13259992953059546,\n",
       " 'b': 0.011157655717809184,\n",
       " 'c': 0.0051286066632736955,\n",
       " 'd': 0.017734800140938808,\n",
       " 'e': 0.060016442861057825,\n",
       " 'f': 0.003954116587714834,\n",
       " 'g': 0.014211329914262225,\n",
       " 'h': 0.03151548369416279,\n",
       " 'i': 0.09720862858708844,\n",
       " 'j': 0.002231531143561837,\n",
       " 'k': 0.058763653447128375,\n",
       " 'l': 0.0016051364365971107,\n",
       " 'm': 0.03887562150099832,\n",
       " 'n': 0.0568061699878636,\n",
       " 'o': 0.09172767490114708,\n",
       " 'p': 0.000822143052891203,\n",
       " 'q': 0.00011744900755588615,\n",
       " 'r': 0.04145949966722781,\n",
       " 's': 0.04247739106604549,\n",
       " 't': 0.056962768664604785,\n",
       " 'u': 0.06988215949575226,\n",
       " 'v': 0.0002740476842970677,\n",
       " 'w': 0.01992718161531535,\n",
       " 'x': 3.9112918997144755e-05,\n",
       " 'y': 0.01389813256077986,\n",
       " 'z': 0.007790784167873781,\n",
       " ' ': 0.12375210429471871}"
      ]
     },
     "execution_count": 33,
     "metadata": {},
     "output_type": "execute_result"
    }
   ],
   "source": [
    "theta_j = []\n",
    "for i in 'abcdefghijklmnopqrstuvwxyz ':\n",
    "    if i in char_frequencies['j']:\n",
    "        theta_j.append((i, (char_frequencies['j'][i] + 0.5) / (1.5 + language_char_counts['j'])))\n",
    "    else:\n",
    "        theta_j.append((i, 0.5 / (13.5 + language_char_counts['j'])))\n",
    "print(\"Japanese - Class Conditional Probability = \")\n",
    "\n",
    "\n",
    "theta_japanese = {}\n",
    "for i in theta_j:\n",
    "    theta_japanese[i[0]] = i[1]\n",
    "theta_japanese"
   ]
  },
  {
   "cell_type": "markdown",
   "metadata": {},
   "source": [
    "#### Question 3.4"
   ]
  },
  {
   "cell_type": "code",
   "execution_count": 34,
   "metadata": {},
   "outputs": [
    {
     "name": "stdout",
     "output_type": "stream",
     "text": [
      "Bag-of-Words Count Vector for e10.txt:\n",
      "a: 164\n",
      "b: 32\n",
      "c: 53\n",
      "d: 57\n",
      "e: 311\n",
      "f: 55\n",
      "g: 51\n",
      "h: 140\n",
      "i: 140\n",
      "j: 3\n",
      "k: 6\n",
      "l: 85\n",
      "m: 64\n",
      "n: 139\n",
      "o: 182\n",
      "p: 53\n",
      "q: 3\n",
      "r: 141\n",
      "s: 186\n",
      "t: 225\n",
      "u: 65\n",
      "v: 31\n",
      "w: 47\n",
      "x: 4\n",
      "y: 38\n",
      "z: 2\n",
      " : 498\n"
     ]
    }
   ],
   "source": [
    "def create_bow_vector(filename):\n",
    "    # Initialize a vector of size 27 with zeros\n",
    "    bow_vector = {ch: 0 for ch in 'abcdefghijklmnopqrstuvwxyz '}\n",
    "    \n",
    "    with open(filename, \"r\", encoding=\"utf-8\") as file:\n",
    "        content = file.read().lower()\n",
    "        # Count each character and update the bow_vector\n",
    "        for ch in content:\n",
    "            if ch in bow_vector:\n",
    "                bow_vector[ch] += 1\n",
    "    \n",
    "    return bow_vector\n",
    "\n",
    "# Main execution\n",
    "filename = \"./languageID/e10.txt\"\n",
    "bow_vector = create_bow_vector(filename)\n",
    "\n",
    "print(\"Bag-of-Words Count Vector for e10.txt:\")\n",
    "for ch, count in bow_vector.items():\n",
    "    print(f\"{ch}: {count}\")\n"
   ]
  },
  {
   "cell_type": "markdown",
   "metadata": {},
   "source": [
    "#### Question 3.5 and 3.6"
   ]
  },
  {
   "cell_type": "code",
   "execution_count": 35,
   "metadata": {},
   "outputs": [
    {
     "name": "stdout",
     "output_type": "stream",
     "text": [
      "Log Likelihood for English: -7840.032136631908\n",
      "Log Likelihood for Japanese: -8763.842626863328\n",
      "Log Likelihood for Spanish: -8455.713565886454\n",
      "Likelihood for English: 1.310102021015336235094476936E-3405\n",
      "Likelihood for Japanese: 8.156557174082387570705576301E-3807\n",
      "Likelihood for Spanish: 5.373506530835482387951004136E-3673\n",
      "Log Posterior for English: -7841.130748920576\n",
      "Log Posterior for Japanese: -8764.941239151996\n",
      "Log Posterior for Spanish: -8456.812178175122\n",
      "Posterior for English:  4.367006736718542682473498549E-3406\n",
      "Posterior for Spanish:  1.791168843612137228216016146E-3673\n",
      "Posterior for Japanese:  2.718852391361266056488021686E-3807\n",
      "Predicted class label: English\n"
     ]
    }
   ],
   "source": [
    "import math\n",
    "\n",
    "def compute_log_likelihood(bow_vector, theta):\n",
    "    log_likelihood = 0\n",
    "    for ch, count in bow_vector.items():\n",
    "        # Using log to get the log likelihood\n",
    "        log_likelihood += count * math.log(theta[ch])\n",
    "    return log_likelihood\n",
    "\n",
    "# Compute log-likelihoods\n",
    "log_likelihood_e = compute_log_likelihood(bow_vector, theta_english)\n",
    "log_likelihood_j = compute_log_likelihood(bow_vector, theta_japanese)\n",
    "log_likelihood_s = compute_log_likelihood(bow_vector, theta_spanish)\n",
    "\n",
    "# Compute log posteriors\n",
    "log_posterior_e = log_likelihood_e + math.log(prior_probabilities['e'])\n",
    "log_posterior_j = log_likelihood_j + math.log(prior_probabilities['j'])\n",
    "log_posterior_s = log_likelihood_s + math.log(prior_probabilities['s'])\n",
    "\n",
    "print(\"Log Likelihood for English:\", log_likelihood_e)\n",
    "print(\"Log Likelihood for Japanese:\", log_likelihood_j)\n",
    "print(\"Log Likelihood for Spanish:\", log_likelihood_s)\n",
    "\n",
    "import decimal\n",
    "temp1 = pow(decimal.Decimal(math.exp(1)),decimal.Decimal(log_likelihood_e))\n",
    "temp2 = pow(decimal.Decimal(math.exp(1)),decimal.Decimal(log_likelihood_j))\n",
    "temp3 = pow(decimal.Decimal(math.exp(1)),decimal.Decimal(log_likelihood_s))\n",
    "\n",
    "print(\"Likelihood for English:\", temp1)\n",
    "print(\"Likelihood for Japanese:\", temp2)\n",
    "print(\"Likelihood for Spanish:\", temp3)\n",
    "\n",
    "print(\"Log Posterior for English:\", log_posterior_e)\n",
    "print(\"Log Posterior for Japanese:\", log_posterior_j)\n",
    "print(\"Log Posterior for Spanish:\", log_posterior_s)\n",
    "\n",
    "import decimal\n",
    "temp1 = pow(decimal.Decimal(math.exp(1)),decimal.Decimal(log_posterior_e))\n",
    "temp2 = pow(decimal.Decimal(math.exp(1)),decimal.Decimal(log_posterior_s))\n",
    "temp3 = pow(decimal.Decimal(math.exp(1)),decimal.Decimal(log_posterior_j))\n",
    "\n",
    "print(\"Posterior for English: \", temp1)\n",
    "print(\"Posterior for Spanish: \", temp2)\n",
    "print(\"Posterior for Japanese: \", temp3)\n",
    "\n",
    "# Predict the class label based on max log-posterior\n",
    "predicted_language = max((\"English\", log_posterior_e), (\"Japanese\", log_posterior_j), (\"Spanish\", log_posterior_s), key=lambda x: x[1])[0]\n",
    "print(\"Predicted class label:\", predicted_language)\n"
   ]
  },
  {
   "cell_type": "markdown",
   "metadata": {},
   "source": [
    "#### Confusion matrix"
   ]
  },
  {
   "cell_type": "code",
   "execution_count": 57,
   "metadata": {},
   "outputs": [
    {
     "name": "stderr",
     "output_type": "stream",
     "text": [
      "30it [00:00, ?it/s]"
     ]
    },
    {
     "name": "stdout",
     "output_type": "stream",
     "text": [
      "[10, 0, 0]\n",
      "[0, 10, 0]\n",
      "[0, 0, 10]\n"
     ]
    },
    {
     "name": "stderr",
     "output_type": "stream",
     "text": [
      "\n"
     ]
    },
    {
     "data": {
      "image/png": "[encoded data removed]",
      "text/plain": [
       "<Figure size 640x480 with 2 Axes>"
      ]
     },
     "metadata": {},
     "output_type": "display_data"
    }
   ],
   "source": [
    "from sklearn.feature_extraction.text import CountVectorizer\n",
    "from sklearn.naive_bayes import MultinomialNB\n",
    "from sklearn.metrics import confusion_matrix, ConfusionMatrixDisplay\n",
    "import matplotlib.pyplot as plt\n",
    "from tqdm import tqdm\n",
    "\n",
    "# Sample data (you'd replace this with your actual file loading mechanism)\n",
    "documents = [\"sampleEnglishText1\", \"sampleSpanishText1\", \"sampleJapaneseText1\"]\n",
    "labels = [\"e\", \"s\", \"j\"]\n",
    "\n",
    "# Convert documents to character frequency vectors\n",
    "vectorizer = CountVectorizer(analyzer='char', ngram_range=(1, 1))\n",
    "X = vectorizer.fit_transform(documents)\n",
    "y = labels\n",
    "\n",
    "# Split data into training and testing sets\n",
    "from sklearn.model_selection import train_test_split\n",
    "X_train, X_test, y_train, y_test = train_test_split(X, y, test_size=0.2, random_state=42)\n",
    "\n",
    "# Predict on the testing data\n",
    "y_pred = []\n",
    "for i in range(len(test_docs)):\n",
    "    predicted_language = classify_document(test_docs[i], char_frequencies, language_char_counts, prior_probabilities)\n",
    "    y_pred.append(predicted_language)\n",
    "y_pred = np.asarray(y_pred)\n",
    "\n",
    "confusion = [[0, 0, 0], [0, 0, 0], [0, 0, 0]]\n",
    "label_idx = {\"e\": 0, \"s\": 1, \"j\": 2}\n",
    "for true, pred in tqdm(zip(y_test_conf, y_pred)):\n",
    "    confusion[label_idx[true]][label_idx[pred]] += 1\n",
    "for row in confusion:\n",
    "    print(row)\n",
    "\n",
    "# Plot confusion matrix\n",
    "disp = ConfusionMatrixDisplay.from_predictions(y_test_conf,y_pred)\n",
    "# disp.plot()\n"
   ]
  },
  {
   "cell_type": "markdown",
   "metadata": {},
   "source": [
    "# Question 4"
   ]
  },
  {
   "cell_type": "markdown",
   "metadata": {},
   "source": [
    "#### Forward Pass\n",
    "\n",
    "1. $z = W_1x$\n",
    "2. $a = \\sigma(z)$\n",
    "3. $h = W_2a$\n",
    "4. $\\hat{y} = g(h)$\n",
    "\n",
    "#### Loss \n",
    "- $L(x,y) = - \\sum_{i=1}^k y_i log(g(j))$\n",
    "\n",
    "#### Backpropagation and gradients of $W_1$ and $W_2$\n",
    "- $\\partial W_2 = \\frac{\\partial L}{\\partial h} \\cdot a^T$\n",
    "- $\\partial W_1 = \\partial W_2 \\cdot \\sigma'(z) \\cdot x^T$"
   ]
  },
  {
   "cell_type": "markdown",
   "metadata": {},
   "source": [
    "### Define the functions for ANN"
   ]
  },
  {
   "cell_type": "code",
   "execution_count": 12,
   "metadata": {},
   "outputs": [],
   "source": [
    "import numpy as np\n",
    "\n",
    "# Helper functions\n",
    "def sigmoid(z):\n",
    "    return 1 / (1 + np.exp(-z))\n",
    "\n",
    "def sigmoid_derivative(z):\n",
    "    s = sigmoid(z)\n",
    "    return s * (1 - s)\n",
    "\n",
    "def softmax(z):\n",
    "    e_z = np.exp(z - np.max(z))\n",
    "    return e_z / e_z.sum(axis=0)\n",
    "\n",
    "# Define the feedforward and backpropagation functions\n",
    "def feedforward(x, W1, W2):\n",
    "    # z = np.dot(W1, x)\n",
    "    z = W1 @ x\n",
    "    a = sigmoid(z)\n",
    "    # h = np.dot(W2, a)\n",
    "    h = W2 @ a\n",
    "    y_pred = softmax(h)\n",
    "    # print(x.shape, W1.shape, W2.shape)\n",
    "    return z, a, h, y_pred\n",
    "\n",
    "def backpropagation(x, y, y_pred, W2, z, a):\n",
    "    m = x.shape[1]\n",
    "    \n",
    "    dh = y_pred - y\n",
    "    dW2 = 1/m * np.dot(dh, a.T)\n",
    "    dz = np.dot(W2.T, dh) * sigmoid_derivative(z)\n",
    "    dW1 = 1/m * np.dot(dz, x.T)\n",
    "    \n",
    "    return dW1, dW2\n",
    "\n",
    "# Training the model\n",
    "def train_model(X, Y, learning_rate, epochs):\n",
    "    np.random.seed(42)\n",
    "    W1 = np.random.randn(200, 300)\n",
    "    W2 = np.random.randn(10, 200)\n",
    "    \n",
    "    for epoch in range(epochs):\n",
    "        for x, y in zip(X, Y):\n",
    "            z, a, h, y_pred = feedforward(x, W1, W2)\n",
    "            dW1, dW2 = backpropagation(x, y, y_pred, W2, z, a)\n",
    "            \n",
    "            W1 -= learning_rate * dW1\n",
    "            W2 -= learning_rate * dW2\n",
    "            \n",
    "    return W1, W2\n"
   ]
  },
  {
   "cell_type": "markdown",
   "metadata": {},
   "source": [
    "### MNIST Dataset\n",
    "- Load dataset (_Used Tensorflow to download the dataset_)\n",
    "- Encode the labels using one-hot encoding"
   ]
  },
  {
   "cell_type": "code",
   "execution_count": 13,
   "metadata": {},
   "outputs": [],
   "source": [
    "import numpy as np\n",
    "from tensorflow.keras.datasets import mnist\n",
    "\n",
    "(train_images, train_labels), (test_images, test_labels) = mnist.load_data()\n",
    "\n",
    "\n",
    "\n",
    "# Flatten the images and normalize\n",
    "train_images = train_images.reshape(train_images.shape[0], -1) / 255.0\n",
    "test_images = test_images.reshape(test_images.shape[0], -1) / 255.0\n",
    "\n",
    "# Convert labels to one-hot encoded format\n",
    "def one_hot_encode(y, num_classes):\n",
    "    one_hot = np.zeros((y.shape[0], num_classes))\n",
    "    one_hot[np.arange(y.shape[0]), y] = 1\n",
    "    return one_hot\n",
    "\n",
    "train_labels = one_hot_encode(train_labels, 10)\n",
    "test_labels = one_hot_encode(test_labels, 10)\n"
   ]
  },
  {
   "cell_type": "markdown",
   "metadata": {},
   "source": [
    "### Training the model"
   ]
  },
  {
   "cell_type": "code",
   "execution_count": 15,
   "metadata": {},
   "outputs": [
    {
     "name": "stderr",
     "output_type": "stream",
     "text": [
      "100%|██████████| 1875/1875 [00:06<00:00, 285.39it/s]\n"
     ]
    },
    {
     "name": "stdout",
     "output_type": "stream",
     "text": [
      "Epoch 1/200, Train Loss: 0.8901, Train Accuracy: 0.7484, Test Loss: 0.8813, Test Accuracy: 0.7556\n"
     ]
    },
    {
     "name": "stderr",
     "output_type": "stream",
     "text": [
      "100%|██████████| 1875/1875 [00:06<00:00, 307.87it/s]\n"
     ]
    },
    {
     "name": "stdout",
     "output_type": "stream",
     "text": [
      "Epoch 2/200, Train Loss: 0.6458, Train Accuracy: 0.8153, Test Loss: 0.6455, Test Accuracy: 0.8176\n"
     ]
    },
    {
     "name": "stderr",
     "output_type": "stream",
     "text": [
      "100%|██████████| 1875/1875 [00:05<00:00, 316.02it/s]\n"
     ]
    },
    {
     "name": "stdout",
     "output_type": "stream",
     "text": [
      "Epoch 3/200, Train Loss: 0.5433, Train Accuracy: 0.8442, Test Loss: 0.5458, Test Accuracy: 0.8456\n"
     ]
    },
    {
     "name": "stderr",
     "output_type": "stream",
     "text": [
      "100%|██████████| 1875/1875 [00:06<00:00, 278.37it/s]\n"
     ]
    },
    {
     "name": "stdout",
     "output_type": "stream",
     "text": [
      "Epoch 4/200, Train Loss: 0.4841, Train Accuracy: 0.8604, Test Loss: 0.4889, Test Accuracy: 0.8604\n"
     ]
    },
    {
     "name": "stderr",
     "output_type": "stream",
     "text": [
      "100%|██████████| 1875/1875 [00:06<00:00, 309.26it/s]\n"
     ]
    },
    {
     "name": "stdout",
     "output_type": "stream",
     "text": [
      "Epoch 5/200, Train Loss: 0.4431, Train Accuracy: 0.8713, Test Loss: 0.4508, Test Accuracy: 0.8691\n"
     ]
    },
    {
     "name": "stderr",
     "output_type": "stream",
     "text": [
      "100%|██████████| 1875/1875 [00:06<00:00, 311.20it/s]\n"
     ]
    },
    {
     "name": "stdout",
     "output_type": "stream",
     "text": [
      "Epoch 6/200, Train Loss: 0.4121, Train Accuracy: 0.8790, Test Loss: 0.4220, Test Accuracy: 0.8775\n"
     ]
    },
    {
     "name": "stderr",
     "output_type": "stream",
     "text": [
      "100%|██████████| 1875/1875 [00:05<00:00, 331.59it/s]\n"
     ]
    },
    {
     "name": "stdout",
     "output_type": "stream",
     "text": [
      "Epoch 7/200, Train Loss: 0.3877, Train Accuracy: 0.8864, Test Loss: 0.4011, Test Accuracy: 0.8834\n"
     ]
    },
    {
     "name": "stderr",
     "output_type": "stream",
     "text": [
      "100%|██████████| 1875/1875 [00:05<00:00, 329.99it/s]\n"
     ]
    },
    {
     "name": "stdout",
     "output_type": "stream",
     "text": [
      "Epoch 8/200, Train Loss: 0.3683, Train Accuracy: 0.8919, Test Loss: 0.3842, Test Accuracy: 0.8876\n"
     ]
    },
    {
     "name": "stderr",
     "output_type": "stream",
     "text": [
      "100%|██████████| 1875/1875 [00:05<00:00, 334.57it/s]\n"
     ]
    },
    {
     "name": "stdout",
     "output_type": "stream",
     "text": [
      "Epoch 9/200, Train Loss: 0.3508, Train Accuracy: 0.8972, Test Loss: 0.3666, Test Accuracy: 0.8922\n"
     ]
    },
    {
     "name": "stderr",
     "output_type": "stream",
     "text": [
      "100%|██████████| 1875/1875 [00:05<00:00, 330.80it/s]\n"
     ]
    },
    {
     "name": "stdout",
     "output_type": "stream",
     "text": [
      "Epoch 10/200, Train Loss: 0.3350, Train Accuracy: 0.9014, Test Loss: 0.3524, Test Accuracy: 0.8967\n"
     ]
    },
    {
     "name": "stderr",
     "output_type": "stream",
     "text": [
      "100%|██████████| 1875/1875 [00:05<00:00, 329.81it/s]\n"
     ]
    },
    {
     "name": "stdout",
     "output_type": "stream",
     "text": [
      "Epoch 11/200, Train Loss: 0.3226, Train Accuracy: 0.9047, Test Loss: 0.3428, Test Accuracy: 0.8981\n"
     ]
    },
    {
     "name": "stderr",
     "output_type": "stream",
     "text": [
      "100%|██████████| 1875/1875 [00:05<00:00, 331.39it/s]\n"
     ]
    },
    {
     "name": "stdout",
     "output_type": "stream",
     "text": [
      "Epoch 12/200, Train Loss: 0.3117, Train Accuracy: 0.9076, Test Loss: 0.3326, Test Accuracy: 0.9025\n"
     ]
    },
    {
     "name": "stderr",
     "output_type": "stream",
     "text": [
      "100%|██████████| 1875/1875 [00:05<00:00, 333.00it/s]\n"
     ]
    },
    {
     "name": "stdout",
     "output_type": "stream",
     "text": [
      "Epoch 13/200, Train Loss: 0.3004, Train Accuracy: 0.9108, Test Loss: 0.3217, Test Accuracy: 0.9043\n"
     ]
    },
    {
     "name": "stderr",
     "output_type": "stream",
     "text": [
      "100%|██████████| 1875/1875 [00:05<00:00, 331.05it/s]\n"
     ]
    },
    {
     "name": "stdout",
     "output_type": "stream",
     "text": [
      "Epoch 14/200, Train Loss: 0.2911, Train Accuracy: 0.9136, Test Loss: 0.3143, Test Accuracy: 0.9070\n"
     ]
    },
    {
     "name": "stderr",
     "output_type": "stream",
     "text": [
      "100%|██████████| 1875/1875 [00:05<00:00, 328.47it/s]\n"
     ]
    },
    {
     "name": "stdout",
     "output_type": "stream",
     "text": [
      "Epoch 15/200, Train Loss: 0.2832, Train Accuracy: 0.9163, Test Loss: 0.3071, Test Accuracy: 0.9085\n"
     ]
    },
    {
     "name": "stderr",
     "output_type": "stream",
     "text": [
      "100%|██████████| 1875/1875 [00:05<00:00, 330.39it/s]\n"
     ]
    },
    {
     "name": "stdout",
     "output_type": "stream",
     "text": [
      "Epoch 16/200, Train Loss: 0.2744, Train Accuracy: 0.9186, Test Loss: 0.3002, Test Accuracy: 0.9115\n"
     ]
    },
    {
     "name": "stderr",
     "output_type": "stream",
     "text": [
      "100%|██████████| 1875/1875 [00:05<00:00, 332.36it/s]\n"
     ]
    },
    {
     "name": "stdout",
     "output_type": "stream",
     "text": [
      "Epoch 17/200, Train Loss: 0.2684, Train Accuracy: 0.9204, Test Loss: 0.2949, Test Accuracy: 0.9135\n"
     ]
    },
    {
     "name": "stderr",
     "output_type": "stream",
     "text": [
      "100%|██████████| 1875/1875 [00:05<00:00, 332.51it/s]\n"
     ]
    },
    {
     "name": "stdout",
     "output_type": "stream",
     "text": [
      "Epoch 18/200, Train Loss: 0.2609, Train Accuracy: 0.9228, Test Loss: 0.2889, Test Accuracy: 0.9140\n"
     ]
    },
    {
     "name": "stderr",
     "output_type": "stream",
     "text": [
      "100%|██████████| 1875/1875 [00:05<00:00, 329.87it/s]\n"
     ]
    },
    {
     "name": "stdout",
     "output_type": "stream",
     "text": [
      "Epoch 19/200, Train Loss: 0.2547, Train Accuracy: 0.9245, Test Loss: 0.2839, Test Accuracy: 0.9155\n"
     ]
    },
    {
     "name": "stderr",
     "output_type": "stream",
     "text": [
      "100%|██████████| 1875/1875 [00:05<00:00, 324.28it/s]\n"
     ]
    },
    {
     "name": "stdout",
     "output_type": "stream",
     "text": [
      "Epoch 20/200, Train Loss: 0.2486, Train Accuracy: 0.9267, Test Loss: 0.2794, Test Accuracy: 0.9178\n"
     ]
    },
    {
     "name": "stderr",
     "output_type": "stream",
     "text": [
      "100%|██████████| 1875/1875 [00:05<00:00, 316.78it/s]\n"
     ]
    },
    {
     "name": "stdout",
     "output_type": "stream",
     "text": [
      "Epoch 21/200, Train Loss: 0.2429, Train Accuracy: 0.9279, Test Loss: 0.2742, Test Accuracy: 0.9187\n"
     ]
    },
    {
     "name": "stderr",
     "output_type": "stream",
     "text": [
      "100%|██████████| 1875/1875 [00:05<00:00, 330.08it/s]\n"
     ]
    },
    {
     "name": "stdout",
     "output_type": "stream",
     "text": [
      "Epoch 22/200, Train Loss: 0.2380, Train Accuracy: 0.9297, Test Loss: 0.2699, Test Accuracy: 0.9196\n"
     ]
    },
    {
     "name": "stderr",
     "output_type": "stream",
     "text": [
      "100%|██████████| 1875/1875 [00:05<00:00, 327.02it/s]\n"
     ]
    },
    {
     "name": "stdout",
     "output_type": "stream",
     "text": [
      "Epoch 23/200, Train Loss: 0.2341, Train Accuracy: 0.9308, Test Loss: 0.2671, Test Accuracy: 0.9207\n"
     ]
    },
    {
     "name": "stderr",
     "output_type": "stream",
     "text": [
      "100%|██████████| 1875/1875 [00:05<00:00, 327.49it/s]\n"
     ]
    },
    {
     "name": "stdout",
     "output_type": "stream",
     "text": [
      "Epoch 24/200, Train Loss: 0.2306, Train Accuracy: 0.9314, Test Loss: 0.2639, Test Accuracy: 0.9209\n"
     ]
    },
    {
     "name": "stderr",
     "output_type": "stream",
     "text": [
      "100%|██████████| 1875/1875 [00:05<00:00, 325.91it/s]\n"
     ]
    },
    {
     "name": "stdout",
     "output_type": "stream",
     "text": [
      "Epoch 25/200, Train Loss: 0.2251, Train Accuracy: 0.9336, Test Loss: 0.2599, Test Accuracy: 0.9228\n"
     ]
    },
    {
     "name": "stderr",
     "output_type": "stream",
     "text": [
      "100%|██████████| 1875/1875 [00:05<00:00, 328.70it/s]\n"
     ]
    },
    {
     "name": "stdout",
     "output_type": "stream",
     "text": [
      "Epoch 26/200, Train Loss: 0.2210, Train Accuracy: 0.9346, Test Loss: 0.2564, Test Accuracy: 0.9227\n"
     ]
    },
    {
     "name": "stderr",
     "output_type": "stream",
     "text": [
      "100%|██████████| 1875/1875 [00:05<00:00, 326.43it/s]\n"
     ]
    },
    {
     "name": "stdout",
     "output_type": "stream",
     "text": [
      "Epoch 27/200, Train Loss: 0.2173, Train Accuracy: 0.9355, Test Loss: 0.2531, Test Accuracy: 0.9244\n"
     ]
    },
    {
     "name": "stderr",
     "output_type": "stream",
     "text": [
      "100%|██████████| 1875/1875 [00:05<00:00, 329.88it/s]\n"
     ]
    },
    {
     "name": "stdout",
     "output_type": "stream",
     "text": [
      "Epoch 28/200, Train Loss: 0.2132, Train Accuracy: 0.9367, Test Loss: 0.2504, Test Accuracy: 0.9240\n"
     ]
    },
    {
     "name": "stderr",
     "output_type": "stream",
     "text": [
      "100%|██████████| 1875/1875 [00:05<00:00, 325.76it/s]\n"
     ]
    },
    {
     "name": "stdout",
     "output_type": "stream",
     "text": [
      "Epoch 29/200, Train Loss: 0.2093, Train Accuracy: 0.9380, Test Loss: 0.2467, Test Accuracy: 0.9262\n"
     ]
    },
    {
     "name": "stderr",
     "output_type": "stream",
     "text": [
      "100%|██████████| 1875/1875 [00:05<00:00, 331.14it/s]\n"
     ]
    },
    {
     "name": "stdout",
     "output_type": "stream",
     "text": [
      "Epoch 30/200, Train Loss: 0.2067, Train Accuracy: 0.9387, Test Loss: 0.2453, Test Accuracy: 0.9263\n"
     ]
    },
    {
     "name": "stderr",
     "output_type": "stream",
     "text": [
      "100%|██████████| 1875/1875 [00:05<00:00, 327.76it/s]\n"
     ]
    },
    {
     "name": "stdout",
     "output_type": "stream",
     "text": [
      "Epoch 31/200, Train Loss: 0.2037, Train Accuracy: 0.9396, Test Loss: 0.2426, Test Accuracy: 0.9282\n"
     ]
    },
    {
     "name": "stderr",
     "output_type": "stream",
     "text": [
      "100%|██████████| 1875/1875 [00:05<00:00, 327.97it/s]\n"
     ]
    },
    {
     "name": "stdout",
     "output_type": "stream",
     "text": [
      "Epoch 32/200, Train Loss: 0.2000, Train Accuracy: 0.9409, Test Loss: 0.2393, Test Accuracy: 0.9279\n"
     ]
    },
    {
     "name": "stderr",
     "output_type": "stream",
     "text": [
      "100%|██████████| 1875/1875 [00:05<00:00, 329.79it/s]\n"
     ]
    },
    {
     "name": "stdout",
     "output_type": "stream",
     "text": [
      "Epoch 33/200, Train Loss: 0.1975, Train Accuracy: 0.9416, Test Loss: 0.2381, Test Accuracy: 0.9290\n"
     ]
    },
    {
     "name": "stderr",
     "output_type": "stream",
     "text": [
      "100%|██████████| 1875/1875 [00:06<00:00, 291.90it/s]\n"
     ]
    },
    {
     "name": "stdout",
     "output_type": "stream",
     "text": [
      "Epoch 34/200, Train Loss: 0.1941, Train Accuracy: 0.9426, Test Loss: 0.2349, Test Accuracy: 0.9298\n"
     ]
    },
    {
     "name": "stderr",
     "output_type": "stream",
     "text": [
      "100%|██████████| 1875/1875 [00:07<00:00, 265.82it/s]\n"
     ]
    },
    {
     "name": "stdout",
     "output_type": "stream",
     "text": [
      "Epoch 35/200, Train Loss: 0.1916, Train Accuracy: 0.9433, Test Loss: 0.2328, Test Accuracy: 0.9296\n"
     ]
    },
    {
     "name": "stderr",
     "output_type": "stream",
     "text": [
      "100%|██████████| 1875/1875 [00:06<00:00, 276.00it/s]\n"
     ]
    },
    {
     "name": "stdout",
     "output_type": "stream",
     "text": [
      "Epoch 36/200, Train Loss: 0.1886, Train Accuracy: 0.9449, Test Loss: 0.2300, Test Accuracy: 0.9315\n"
     ]
    },
    {
     "name": "stderr",
     "output_type": "stream",
     "text": [
      "100%|██████████| 1875/1875 [00:06<00:00, 306.36it/s]\n"
     ]
    },
    {
     "name": "stdout",
     "output_type": "stream",
     "text": [
      "Epoch 37/200, Train Loss: 0.1868, Train Accuracy: 0.9453, Test Loss: 0.2287, Test Accuracy: 0.9316\n"
     ]
    },
    {
     "name": "stderr",
     "output_type": "stream",
     "text": [
      "100%|██████████| 1875/1875 [00:05<00:00, 329.67it/s]\n"
     ]
    },
    {
     "name": "stdout",
     "output_type": "stream",
     "text": [
      "Epoch 38/200, Train Loss: 0.1840, Train Accuracy: 0.9458, Test Loss: 0.2258, Test Accuracy: 0.9316\n"
     ]
    },
    {
     "name": "stderr",
     "output_type": "stream",
     "text": [
      "100%|██████████| 1875/1875 [00:06<00:00, 299.05it/s]\n"
     ]
    },
    {
     "name": "stdout",
     "output_type": "stream",
     "text": [
      "Epoch 39/200, Train Loss: 0.1814, Train Accuracy: 0.9465, Test Loss: 0.2240, Test Accuracy: 0.9330\n"
     ]
    },
    {
     "name": "stderr",
     "output_type": "stream",
     "text": [
      "100%|██████████| 1875/1875 [00:05<00:00, 331.78it/s]\n"
     ]
    },
    {
     "name": "stdout",
     "output_type": "stream",
     "text": [
      "Epoch 40/200, Train Loss: 0.1788, Train Accuracy: 0.9472, Test Loss: 0.2220, Test Accuracy: 0.9338\n"
     ]
    },
    {
     "name": "stderr",
     "output_type": "stream",
     "text": [
      "100%|██████████| 1875/1875 [00:05<00:00, 327.66it/s]\n"
     ]
    },
    {
     "name": "stdout",
     "output_type": "stream",
     "text": [
      "Epoch 41/200, Train Loss: 0.1769, Train Accuracy: 0.9476, Test Loss: 0.2211, Test Accuracy: 0.9334\n"
     ]
    },
    {
     "name": "stderr",
     "output_type": "stream",
     "text": [
      "100%|██████████| 1875/1875 [00:05<00:00, 330.36it/s]\n"
     ]
    },
    {
     "name": "stdout",
     "output_type": "stream",
     "text": [
      "Epoch 42/200, Train Loss: 0.1750, Train Accuracy: 0.9487, Test Loss: 0.2197, Test Accuracy: 0.9345\n"
     ]
    },
    {
     "name": "stderr",
     "output_type": "stream",
     "text": [
      "100%|██████████| 1875/1875 [00:05<00:00, 323.26it/s]\n"
     ]
    },
    {
     "name": "stdout",
     "output_type": "stream",
     "text": [
      "Epoch 43/200, Train Loss: 0.1730, Train Accuracy: 0.9485, Test Loss: 0.2181, Test Accuracy: 0.9352\n"
     ]
    },
    {
     "name": "stderr",
     "output_type": "stream",
     "text": [
      "100%|██████████| 1875/1875 [00:05<00:00, 330.39it/s]\n"
     ]
    },
    {
     "name": "stdout",
     "output_type": "stream",
     "text": [
      "Epoch 44/200, Train Loss: 0.1708, Train Accuracy: 0.9498, Test Loss: 0.2159, Test Accuracy: 0.9346\n"
     ]
    },
    {
     "name": "stderr",
     "output_type": "stream",
     "text": [
      "100%|██████████| 1875/1875 [00:05<00:00, 324.55it/s]\n"
     ]
    },
    {
     "name": "stdout",
     "output_type": "stream",
     "text": [
      "Epoch 45/200, Train Loss: 0.1689, Train Accuracy: 0.9503, Test Loss: 0.2138, Test Accuracy: 0.9356\n"
     ]
    },
    {
     "name": "stderr",
     "output_type": "stream",
     "text": [
      "100%|██████████| 1875/1875 [00:05<00:00, 329.75it/s]\n"
     ]
    },
    {
     "name": "stdout",
     "output_type": "stream",
     "text": [
      "Epoch 46/200, Train Loss: 0.1665, Train Accuracy: 0.9509, Test Loss: 0.2125, Test Accuracy: 0.9353\n"
     ]
    },
    {
     "name": "stderr",
     "output_type": "stream",
     "text": [
      "100%|██████████| 1875/1875 [00:05<00:00, 328.27it/s]\n"
     ]
    },
    {
     "name": "stdout",
     "output_type": "stream",
     "text": [
      "Epoch 47/200, Train Loss: 0.1654, Train Accuracy: 0.9510, Test Loss: 0.2122, Test Accuracy: 0.9356\n"
     ]
    },
    {
     "name": "stderr",
     "output_type": "stream",
     "text": [
      "100%|██████████| 1875/1875 [00:05<00:00, 330.65it/s]\n"
     ]
    },
    {
     "name": "stdout",
     "output_type": "stream",
     "text": [
      "Epoch 48/200, Train Loss: 0.1629, Train Accuracy: 0.9519, Test Loss: 0.2101, Test Accuracy: 0.9370\n"
     ]
    },
    {
     "name": "stderr",
     "output_type": "stream",
     "text": [
      "100%|██████████| 1875/1875 [00:05<00:00, 331.55it/s]\n"
     ]
    },
    {
     "name": "stdout",
     "output_type": "stream",
     "text": [
      "Epoch 49/200, Train Loss: 0.1619, Train Accuracy: 0.9526, Test Loss: 0.2091, Test Accuracy: 0.9369\n"
     ]
    },
    {
     "name": "stderr",
     "output_type": "stream",
     "text": [
      "100%|██████████| 1875/1875 [00:05<00:00, 329.89it/s]\n"
     ]
    },
    {
     "name": "stdout",
     "output_type": "stream",
     "text": [
      "Epoch 50/200, Train Loss: 0.1595, Train Accuracy: 0.9534, Test Loss: 0.2075, Test Accuracy: 0.9378\n"
     ]
    },
    {
     "name": "stderr",
     "output_type": "stream",
     "text": [
      "100%|██████████| 1875/1875 [00:05<00:00, 333.68it/s]\n"
     ]
    },
    {
     "name": "stdout",
     "output_type": "stream",
     "text": [
      "Epoch 51/200, Train Loss: 0.1580, Train Accuracy: 0.9537, Test Loss: 0.2065, Test Accuracy: 0.9372\n"
     ]
    },
    {
     "name": "stderr",
     "output_type": "stream",
     "text": [
      "100%|██████████| 1875/1875 [00:05<00:00, 332.50it/s]\n"
     ]
    },
    {
     "name": "stdout",
     "output_type": "stream",
     "text": [
      "Epoch 52/200, Train Loss: 0.1563, Train Accuracy: 0.9541, Test Loss: 0.2051, Test Accuracy: 0.9381\n"
     ]
    },
    {
     "name": "stderr",
     "output_type": "stream",
     "text": [
      "100%|██████████| 1875/1875 [00:05<00:00, 330.54it/s]\n"
     ]
    },
    {
     "name": "stdout",
     "output_type": "stream",
     "text": [
      "Epoch 53/200, Train Loss: 0.1545, Train Accuracy: 0.9550, Test Loss: 0.2027, Test Accuracy: 0.9386\n"
     ]
    },
    {
     "name": "stderr",
     "output_type": "stream",
     "text": [
      "100%|██████████| 1875/1875 [00:05<00:00, 334.61it/s]\n"
     ]
    },
    {
     "name": "stdout",
     "output_type": "stream",
     "text": [
      "Epoch 54/200, Train Loss: 0.1531, Train Accuracy: 0.9553, Test Loss: 0.2017, Test Accuracy: 0.9387\n"
     ]
    },
    {
     "name": "stderr",
     "output_type": "stream",
     "text": [
      "100%|██████████| 1875/1875 [00:05<00:00, 334.57it/s]\n"
     ]
    },
    {
     "name": "stdout",
     "output_type": "stream",
     "text": [
      "Epoch 55/200, Train Loss: 0.1513, Train Accuracy: 0.9559, Test Loss: 0.2003, Test Accuracy: 0.9392\n"
     ]
    },
    {
     "name": "stderr",
     "output_type": "stream",
     "text": [
      "100%|██████████| 1875/1875 [00:05<00:00, 333.96it/s]\n"
     ]
    },
    {
     "name": "stdout",
     "output_type": "stream",
     "text": [
      "Epoch 56/200, Train Loss: 0.1500, Train Accuracy: 0.9561, Test Loss: 0.1996, Test Accuracy: 0.9395\n"
     ]
    },
    {
     "name": "stderr",
     "output_type": "stream",
     "text": [
      "100%|██████████| 1875/1875 [00:05<00:00, 332.88it/s]\n"
     ]
    },
    {
     "name": "stdout",
     "output_type": "stream",
     "text": [
      "Epoch 57/200, Train Loss: 0.1481, Train Accuracy: 0.9569, Test Loss: 0.1988, Test Accuracy: 0.9400\n"
     ]
    },
    {
     "name": "stderr",
     "output_type": "stream",
     "text": [
      "100%|██████████| 1875/1875 [00:05<00:00, 327.85it/s]\n"
     ]
    },
    {
     "name": "stdout",
     "output_type": "stream",
     "text": [
      "Epoch 58/200, Train Loss: 0.1468, Train Accuracy: 0.9573, Test Loss: 0.1973, Test Accuracy: 0.9402\n"
     ]
    },
    {
     "name": "stderr",
     "output_type": "stream",
     "text": [
      "100%|██████████| 1875/1875 [00:05<00:00, 334.82it/s]\n"
     ]
    },
    {
     "name": "stdout",
     "output_type": "stream",
     "text": [
      "Epoch 59/200, Train Loss: 0.1460, Train Accuracy: 0.9576, Test Loss: 0.1963, Test Accuracy: 0.9392\n"
     ]
    },
    {
     "name": "stderr",
     "output_type": "stream",
     "text": [
      "100%|██████████| 1875/1875 [00:05<00:00, 330.99it/s]\n"
     ]
    },
    {
     "name": "stdout",
     "output_type": "stream",
     "text": [
      "Epoch 60/200, Train Loss: 0.1441, Train Accuracy: 0.9579, Test Loss: 0.1951, Test Accuracy: 0.9407\n"
     ]
    },
    {
     "name": "stderr",
     "output_type": "stream",
     "text": [
      "100%|██████████| 1875/1875 [00:05<00:00, 334.39it/s]\n"
     ]
    },
    {
     "name": "stdout",
     "output_type": "stream",
     "text": [
      "Epoch 61/200, Train Loss: 0.1431, Train Accuracy: 0.9586, Test Loss: 0.1952, Test Accuracy: 0.9417\n"
     ]
    },
    {
     "name": "stderr",
     "output_type": "stream",
     "text": [
      "100%|██████████| 1875/1875 [00:05<00:00, 330.61it/s]\n"
     ]
    },
    {
     "name": "stdout",
     "output_type": "stream",
     "text": [
      "Epoch 62/200, Train Loss: 0.1416, Train Accuracy: 0.9591, Test Loss: 0.1929, Test Accuracy: 0.9419\n"
     ]
    },
    {
     "name": "stderr",
     "output_type": "stream",
     "text": [
      "100%|██████████| 1875/1875 [00:05<00:00, 332.37it/s]\n"
     ]
    },
    {
     "name": "stdout",
     "output_type": "stream",
     "text": [
      "Epoch 63/200, Train Loss: 0.1407, Train Accuracy: 0.9596, Test Loss: 0.1931, Test Accuracy: 0.9419\n"
     ]
    },
    {
     "name": "stderr",
     "output_type": "stream",
     "text": [
      "100%|██████████| 1875/1875 [00:05<00:00, 333.47it/s]\n"
     ]
    },
    {
     "name": "stdout",
     "output_type": "stream",
     "text": [
      "Epoch 64/200, Train Loss: 0.1386, Train Accuracy: 0.9600, Test Loss: 0.1909, Test Accuracy: 0.9415\n"
     ]
    },
    {
     "name": "stderr",
     "output_type": "stream",
     "text": [
      "100%|██████████| 1875/1875 [00:05<00:00, 331.82it/s]\n"
     ]
    },
    {
     "name": "stdout",
     "output_type": "stream",
     "text": [
      "Epoch 65/200, Train Loss: 0.1380, Train Accuracy: 0.9602, Test Loss: 0.1910, Test Accuracy: 0.9417\n"
     ]
    },
    {
     "name": "stderr",
     "output_type": "stream",
     "text": [
      "100%|██████████| 1875/1875 [00:05<00:00, 323.02it/s]\n"
     ]
    },
    {
     "name": "stdout",
     "output_type": "stream",
     "text": [
      "Epoch 66/200, Train Loss: 0.1365, Train Accuracy: 0.9606, Test Loss: 0.1892, Test Accuracy: 0.9427\n"
     ]
    },
    {
     "name": "stderr",
     "output_type": "stream",
     "text": [
      "100%|██████████| 1875/1875 [00:05<00:00, 328.99it/s]\n"
     ]
    },
    {
     "name": "stdout",
     "output_type": "stream",
     "text": [
      "Epoch 67/200, Train Loss: 0.1358, Train Accuracy: 0.9610, Test Loss: 0.1889, Test Accuracy: 0.9430\n"
     ]
    },
    {
     "name": "stderr",
     "output_type": "stream",
     "text": [
      "100%|██████████| 1875/1875 [00:05<00:00, 330.40it/s]\n"
     ]
    },
    {
     "name": "stdout",
     "output_type": "stream",
     "text": [
      "Epoch 68/200, Train Loss: 0.1339, Train Accuracy: 0.9613, Test Loss: 0.1876, Test Accuracy: 0.9428\n"
     ]
    },
    {
     "name": "stderr",
     "output_type": "stream",
     "text": [
      "100%|██████████| 1875/1875 [00:05<00:00, 333.91it/s]\n"
     ]
    },
    {
     "name": "stdout",
     "output_type": "stream",
     "text": [
      "Epoch 69/200, Train Loss: 0.1327, Train Accuracy: 0.9615, Test Loss: 0.1865, Test Accuracy: 0.9433\n"
     ]
    },
    {
     "name": "stderr",
     "output_type": "stream",
     "text": [
      "100%|██████████| 1875/1875 [00:05<00:00, 332.71it/s]\n"
     ]
    },
    {
     "name": "stdout",
     "output_type": "stream",
     "text": [
      "Epoch 70/200, Train Loss: 0.1321, Train Accuracy: 0.9618, Test Loss: 0.1867, Test Accuracy: 0.9422\n"
     ]
    },
    {
     "name": "stderr",
     "output_type": "stream",
     "text": [
      "100%|██████████| 1875/1875 [00:05<00:00, 332.40it/s]\n"
     ]
    },
    {
     "name": "stdout",
     "output_type": "stream",
     "text": [
      "Epoch 71/200, Train Loss: 0.1308, Train Accuracy: 0.9623, Test Loss: 0.1856, Test Accuracy: 0.9441\n"
     ]
    },
    {
     "name": "stderr",
     "output_type": "stream",
     "text": [
      "100%|██████████| 1875/1875 [00:05<00:00, 332.81it/s]\n"
     ]
    },
    {
     "name": "stdout",
     "output_type": "stream",
     "text": [
      "Epoch 72/200, Train Loss: 0.1295, Train Accuracy: 0.9627, Test Loss: 0.1836, Test Accuracy: 0.9444\n"
     ]
    },
    {
     "name": "stderr",
     "output_type": "stream",
     "text": [
      "100%|██████████| 1875/1875 [00:05<00:00, 327.77it/s]\n"
     ]
    },
    {
     "name": "stdout",
     "output_type": "stream",
     "text": [
      "Epoch 73/200, Train Loss: 0.1289, Train Accuracy: 0.9629, Test Loss: 0.1844, Test Accuracy: 0.9433\n"
     ]
    },
    {
     "name": "stderr",
     "output_type": "stream",
     "text": [
      "100%|██████████| 1875/1875 [00:05<00:00, 330.87it/s]\n"
     ]
    },
    {
     "name": "stdout",
     "output_type": "stream",
     "text": [
      "Epoch 74/200, Train Loss: 0.1275, Train Accuracy: 0.9634, Test Loss: 0.1824, Test Accuracy: 0.9452\n"
     ]
    },
    {
     "name": "stderr",
     "output_type": "stream",
     "text": [
      "100%|██████████| 1875/1875 [00:05<00:00, 331.76it/s]\n"
     ]
    },
    {
     "name": "stdout",
     "output_type": "stream",
     "text": [
      "Epoch 75/200, Train Loss: 0.1265, Train Accuracy: 0.9636, Test Loss: 0.1815, Test Accuracy: 0.9448\n"
     ]
    },
    {
     "name": "stderr",
     "output_type": "stream",
     "text": [
      "100%|██████████| 1875/1875 [00:05<00:00, 327.41it/s]\n"
     ]
    },
    {
     "name": "stdout",
     "output_type": "stream",
     "text": [
      "Epoch 76/200, Train Loss: 0.1251, Train Accuracy: 0.9641, Test Loss: 0.1808, Test Accuracy: 0.9451\n"
     ]
    },
    {
     "name": "stderr",
     "output_type": "stream",
     "text": [
      "100%|██████████| 1875/1875 [00:05<00:00, 334.53it/s]\n"
     ]
    },
    {
     "name": "stdout",
     "output_type": "stream",
     "text": [
      "Epoch 77/200, Train Loss: 0.1243, Train Accuracy: 0.9645, Test Loss: 0.1809, Test Accuracy: 0.9448\n"
     ]
    },
    {
     "name": "stderr",
     "output_type": "stream",
     "text": [
      "100%|██████████| 1875/1875 [00:05<00:00, 332.87it/s]\n"
     ]
    },
    {
     "name": "stdout",
     "output_type": "stream",
     "text": [
      "Epoch 78/200, Train Loss: 0.1238, Train Accuracy: 0.9643, Test Loss: 0.1796, Test Accuracy: 0.9459\n"
     ]
    },
    {
     "name": "stderr",
     "output_type": "stream",
     "text": [
      "100%|██████████| 1875/1875 [00:05<00:00, 332.69it/s]\n"
     ]
    },
    {
     "name": "stdout",
     "output_type": "stream",
     "text": [
      "Epoch 79/200, Train Loss: 0.1227, Train Accuracy: 0.9652, Test Loss: 0.1794, Test Accuracy: 0.9453\n"
     ]
    },
    {
     "name": "stderr",
     "output_type": "stream",
     "text": [
      "100%|██████████| 1875/1875 [00:05<00:00, 332.23it/s]\n"
     ]
    },
    {
     "name": "stdout",
     "output_type": "stream",
     "text": [
      "Epoch 80/200, Train Loss: 0.1216, Train Accuracy: 0.9652, Test Loss: 0.1785, Test Accuracy: 0.9460\n"
     ]
    },
    {
     "name": "stderr",
     "output_type": "stream",
     "text": [
      "100%|██████████| 1875/1875 [00:05<00:00, 327.28it/s]\n"
     ]
    },
    {
     "name": "stdout",
     "output_type": "stream",
     "text": [
      "Epoch 81/200, Train Loss: 0.1207, Train Accuracy: 0.9654, Test Loss: 0.1777, Test Accuracy: 0.9446\n"
     ]
    },
    {
     "name": "stderr",
     "output_type": "stream",
     "text": [
      "100%|██████████| 1875/1875 [00:05<00:00, 330.53it/s]\n"
     ]
    },
    {
     "name": "stdout",
     "output_type": "stream",
     "text": [
      "Epoch 82/200, Train Loss: 0.1206, Train Accuracy: 0.9657, Test Loss: 0.1782, Test Accuracy: 0.9461\n"
     ]
    },
    {
     "name": "stderr",
     "output_type": "stream",
     "text": [
      "100%|██████████| 1875/1875 [00:05<00:00, 331.68it/s]\n"
     ]
    },
    {
     "name": "stdout",
     "output_type": "stream",
     "text": [
      "Epoch 83/200, Train Loss: 0.1185, Train Accuracy: 0.9666, Test Loss: 0.1759, Test Accuracy: 0.9472\n"
     ]
    },
    {
     "name": "stderr",
     "output_type": "stream",
     "text": [
      "100%|██████████| 1875/1875 [00:05<00:00, 338.62it/s]\n"
     ]
    },
    {
     "name": "stdout",
     "output_type": "stream",
     "text": [
      "Epoch 84/200, Train Loss: 0.1175, Train Accuracy: 0.9669, Test Loss: 0.1756, Test Accuracy: 0.9467\n"
     ]
    },
    {
     "name": "stderr",
     "output_type": "stream",
     "text": [
      "100%|██████████| 1875/1875 [00:05<00:00, 331.80it/s]\n"
     ]
    },
    {
     "name": "stdout",
     "output_type": "stream",
     "text": [
      "Epoch 85/200, Train Loss: 0.1169, Train Accuracy: 0.9668, Test Loss: 0.1744, Test Accuracy: 0.9470\n"
     ]
    },
    {
     "name": "stderr",
     "output_type": "stream",
     "text": [
      "100%|██████████| 1875/1875 [00:05<00:00, 330.42it/s]\n"
     ]
    },
    {
     "name": "stdout",
     "output_type": "stream",
     "text": [
      "Epoch 86/200, Train Loss: 0.1159, Train Accuracy: 0.9672, Test Loss: 0.1737, Test Accuracy: 0.9472\n"
     ]
    },
    {
     "name": "stderr",
     "output_type": "stream",
     "text": [
      "100%|██████████| 1875/1875 [00:05<00:00, 327.76it/s]\n"
     ]
    },
    {
     "name": "stdout",
     "output_type": "stream",
     "text": [
      "Epoch 87/200, Train Loss: 0.1151, Train Accuracy: 0.9675, Test Loss: 0.1740, Test Accuracy: 0.9471\n"
     ]
    },
    {
     "name": "stderr",
     "output_type": "stream",
     "text": [
      "100%|██████████| 1875/1875 [00:05<00:00, 334.97it/s]\n"
     ]
    },
    {
     "name": "stdout",
     "output_type": "stream",
     "text": [
      "Epoch 88/200, Train Loss: 0.1142, Train Accuracy: 0.9679, Test Loss: 0.1730, Test Accuracy: 0.9476\n"
     ]
    },
    {
     "name": "stderr",
     "output_type": "stream",
     "text": [
      "100%|██████████| 1875/1875 [00:05<00:00, 331.52it/s]\n"
     ]
    },
    {
     "name": "stdout",
     "output_type": "stream",
     "text": [
      "Epoch 89/200, Train Loss: 0.1133, Train Accuracy: 0.9681, Test Loss: 0.1716, Test Accuracy: 0.9479\n"
     ]
    },
    {
     "name": "stderr",
     "output_type": "stream",
     "text": [
      "100%|██████████| 1875/1875 [00:05<00:00, 331.36it/s]\n"
     ]
    },
    {
     "name": "stdout",
     "output_type": "stream",
     "text": [
      "Epoch 90/200, Train Loss: 0.1127, Train Accuracy: 0.9684, Test Loss: 0.1710, Test Accuracy: 0.9478\n"
     ]
    },
    {
     "name": "stderr",
     "output_type": "stream",
     "text": [
      "100%|██████████| 1875/1875 [00:05<00:00, 332.03it/s]\n"
     ]
    },
    {
     "name": "stdout",
     "output_type": "stream",
     "text": [
      "Epoch 91/200, Train Loss: 0.1117, Train Accuracy: 0.9686, Test Loss: 0.1710, Test Accuracy: 0.9478\n"
     ]
    },
    {
     "name": "stderr",
     "output_type": "stream",
     "text": [
      "100%|██████████| 1875/1875 [00:05<00:00, 330.90it/s]\n"
     ]
    },
    {
     "name": "stdout",
     "output_type": "stream",
     "text": [
      "Epoch 92/200, Train Loss: 0.1108, Train Accuracy: 0.9693, Test Loss: 0.1704, Test Accuracy: 0.9480\n"
     ]
    },
    {
     "name": "stderr",
     "output_type": "stream",
     "text": [
      "100%|██████████| 1875/1875 [00:05<00:00, 329.30it/s]\n"
     ]
    },
    {
     "name": "stdout",
     "output_type": "stream",
     "text": [
      "Epoch 93/200, Train Loss: 0.1103, Train Accuracy: 0.9689, Test Loss: 0.1699, Test Accuracy: 0.9482\n"
     ]
    },
    {
     "name": "stderr",
     "output_type": "stream",
     "text": [
      "100%|██████████| 1875/1875 [00:05<00:00, 334.43it/s]\n"
     ]
    },
    {
     "name": "stdout",
     "output_type": "stream",
     "text": [
      "Epoch 94/200, Train Loss: 0.1092, Train Accuracy: 0.9696, Test Loss: 0.1693, Test Accuracy: 0.9483\n"
     ]
    },
    {
     "name": "stderr",
     "output_type": "stream",
     "text": [
      "100%|██████████| 1875/1875 [00:05<00:00, 331.67it/s]\n"
     ]
    },
    {
     "name": "stdout",
     "output_type": "stream",
     "text": [
      "Epoch 95/200, Train Loss: 0.1085, Train Accuracy: 0.9694, Test Loss: 0.1687, Test Accuracy: 0.9489\n"
     ]
    },
    {
     "name": "stderr",
     "output_type": "stream",
     "text": [
      "100%|██████████| 1875/1875 [00:05<00:00, 332.27it/s]\n"
     ]
    },
    {
     "name": "stdout",
     "output_type": "stream",
     "text": [
      "Epoch 96/200, Train Loss: 0.1078, Train Accuracy: 0.9699, Test Loss: 0.1679, Test Accuracy: 0.9487\n"
     ]
    },
    {
     "name": "stderr",
     "output_type": "stream",
     "text": [
      "100%|██████████| 1875/1875 [00:05<00:00, 335.46it/s]\n"
     ]
    },
    {
     "name": "stdout",
     "output_type": "stream",
     "text": [
      "Epoch 97/200, Train Loss: 0.1071, Train Accuracy: 0.9704, Test Loss: 0.1677, Test Accuracy: 0.9492\n"
     ]
    },
    {
     "name": "stderr",
     "output_type": "stream",
     "text": [
      "100%|██████████| 1875/1875 [00:05<00:00, 334.29it/s]\n"
     ]
    },
    {
     "name": "stdout",
     "output_type": "stream",
     "text": [
      "Epoch 98/200, Train Loss: 0.1061, Train Accuracy: 0.9705, Test Loss: 0.1665, Test Accuracy: 0.9495\n"
     ]
    },
    {
     "name": "stderr",
     "output_type": "stream",
     "text": [
      "100%|██████████| 1875/1875 [00:05<00:00, 333.86it/s]\n"
     ]
    },
    {
     "name": "stdout",
     "output_type": "stream",
     "text": [
      "Epoch 99/200, Train Loss: 0.1059, Train Accuracy: 0.9703, Test Loss: 0.1672, Test Accuracy: 0.9493\n"
     ]
    },
    {
     "name": "stderr",
     "output_type": "stream",
     "text": [
      "100%|██████████| 1875/1875 [00:05<00:00, 334.27it/s]\n"
     ]
    },
    {
     "name": "stdout",
     "output_type": "stream",
     "text": [
      "Epoch 100/200, Train Loss: 0.1050, Train Accuracy: 0.9708, Test Loss: 0.1659, Test Accuracy: 0.9500\n"
     ]
    },
    {
     "name": "stderr",
     "output_type": "stream",
     "text": [
      "100%|██████████| 1875/1875 [00:05<00:00, 335.59it/s]\n"
     ]
    },
    {
     "name": "stdout",
     "output_type": "stream",
     "text": [
      "Epoch 101/200, Train Loss: 0.1040, Train Accuracy: 0.9715, Test Loss: 0.1652, Test Accuracy: 0.9492\n"
     ]
    },
    {
     "name": "stderr",
     "output_type": "stream",
     "text": [
      "100%|██████████| 1875/1875 [00:05<00:00, 334.15it/s]\n"
     ]
    },
    {
     "name": "stdout",
     "output_type": "stream",
     "text": [
      "Epoch 102/200, Train Loss: 0.1031, Train Accuracy: 0.9715, Test Loss: 0.1648, Test Accuracy: 0.9498\n"
     ]
    },
    {
     "name": "stderr",
     "output_type": "stream",
     "text": [
      "100%|██████████| 1875/1875 [00:05<00:00, 328.70it/s]\n"
     ]
    },
    {
     "name": "stdout",
     "output_type": "stream",
     "text": [
      "Epoch 103/200, Train Loss: 0.1026, Train Accuracy: 0.9716, Test Loss: 0.1641, Test Accuracy: 0.9498\n"
     ]
    },
    {
     "name": "stderr",
     "output_type": "stream",
     "text": [
      "100%|██████████| 1875/1875 [00:05<00:00, 337.51it/s]\n"
     ]
    },
    {
     "name": "stdout",
     "output_type": "stream",
     "text": [
      "Epoch 104/200, Train Loss: 0.1020, Train Accuracy: 0.9718, Test Loss: 0.1640, Test Accuracy: 0.9501\n"
     ]
    },
    {
     "name": "stderr",
     "output_type": "stream",
     "text": [
      "100%|██████████| 1875/1875 [00:05<00:00, 332.45it/s]\n"
     ]
    },
    {
     "name": "stdout",
     "output_type": "stream",
     "text": [
      "Epoch 105/200, Train Loss: 0.1011, Train Accuracy: 0.9718, Test Loss: 0.1633, Test Accuracy: 0.9503\n"
     ]
    },
    {
     "name": "stderr",
     "output_type": "stream",
     "text": [
      "100%|██████████| 1875/1875 [00:05<00:00, 337.73it/s]\n"
     ]
    },
    {
     "name": "stdout",
     "output_type": "stream",
     "text": [
      "Epoch 106/200, Train Loss: 0.1007, Train Accuracy: 0.9722, Test Loss: 0.1632, Test Accuracy: 0.9503\n"
     ]
    },
    {
     "name": "stderr",
     "output_type": "stream",
     "text": [
      "100%|██████████| 1875/1875 [00:05<00:00, 332.91it/s]\n"
     ]
    },
    {
     "name": "stdout",
     "output_type": "stream",
     "text": [
      "Epoch 107/200, Train Loss: 0.0998, Train Accuracy: 0.9726, Test Loss: 0.1618, Test Accuracy: 0.9511\n"
     ]
    },
    {
     "name": "stderr",
     "output_type": "stream",
     "text": [
      "100%|██████████| 1875/1875 [00:05<00:00, 336.37it/s]\n"
     ]
    },
    {
     "name": "stdout",
     "output_type": "stream",
     "text": [
      "Epoch 108/200, Train Loss: 0.0990, Train Accuracy: 0.9727, Test Loss: 0.1618, Test Accuracy: 0.9508\n"
     ]
    },
    {
     "name": "stderr",
     "output_type": "stream",
     "text": [
      "100%|██████████| 1875/1875 [00:05<00:00, 334.47it/s]\n"
     ]
    },
    {
     "name": "stdout",
     "output_type": "stream",
     "text": [
      "Epoch 109/200, Train Loss: 0.0988, Train Accuracy: 0.9729, Test Loss: 0.1615, Test Accuracy: 0.9510\n"
     ]
    },
    {
     "name": "stderr",
     "output_type": "stream",
     "text": [
      "100%|██████████| 1875/1875 [00:05<00:00, 339.90it/s]\n"
     ]
    },
    {
     "name": "stdout",
     "output_type": "stream",
     "text": [
      "Epoch 110/200, Train Loss: 0.0983, Train Accuracy: 0.9725, Test Loss: 0.1614, Test Accuracy: 0.9507\n"
     ]
    },
    {
     "name": "stderr",
     "output_type": "stream",
     "text": [
      "100%|██████████| 1875/1875 [00:05<00:00, 334.59it/s]\n"
     ]
    },
    {
     "name": "stdout",
     "output_type": "stream",
     "text": [
      "Epoch 111/200, Train Loss: 0.0971, Train Accuracy: 0.9733, Test Loss: 0.1600, Test Accuracy: 0.9512\n"
     ]
    },
    {
     "name": "stderr",
     "output_type": "stream",
     "text": [
      "100%|██████████| 1875/1875 [00:05<00:00, 331.61it/s]\n"
     ]
    },
    {
     "name": "stdout",
     "output_type": "stream",
     "text": [
      "Epoch 112/200, Train Loss: 0.0966, Train Accuracy: 0.9736, Test Loss: 0.1604, Test Accuracy: 0.9504\n"
     ]
    },
    {
     "name": "stderr",
     "output_type": "stream",
     "text": [
      "100%|██████████| 1875/1875 [00:05<00:00, 334.14it/s]\n"
     ]
    },
    {
     "name": "stdout",
     "output_type": "stream",
     "text": [
      "Epoch 113/200, Train Loss: 0.0960, Train Accuracy: 0.9737, Test Loss: 0.1600, Test Accuracy: 0.9516\n"
     ]
    },
    {
     "name": "stderr",
     "output_type": "stream",
     "text": [
      "100%|██████████| 1875/1875 [00:05<00:00, 334.63it/s]\n"
     ]
    },
    {
     "name": "stdout",
     "output_type": "stream",
     "text": [
      "Epoch 114/200, Train Loss: 0.0956, Train Accuracy: 0.9735, Test Loss: 0.1598, Test Accuracy: 0.9509\n"
     ]
    },
    {
     "name": "stderr",
     "output_type": "stream",
     "text": [
      "100%|██████████| 1875/1875 [00:05<00:00, 336.64it/s]\n"
     ]
    },
    {
     "name": "stdout",
     "output_type": "stream",
     "text": [
      "Epoch 115/200, Train Loss: 0.0949, Train Accuracy: 0.9740, Test Loss: 0.1589, Test Accuracy: 0.9516\n"
     ]
    },
    {
     "name": "stderr",
     "output_type": "stream",
     "text": [
      "100%|██████████| 1875/1875 [00:05<00:00, 334.28it/s]\n"
     ]
    },
    {
     "name": "stdout",
     "output_type": "stream",
     "text": [
      "Epoch 116/200, Train Loss: 0.0947, Train Accuracy: 0.9738, Test Loss: 0.1590, Test Accuracy: 0.9521\n"
     ]
    },
    {
     "name": "stderr",
     "output_type": "stream",
     "text": [
      "100%|██████████| 1875/1875 [00:05<00:00, 335.72it/s]\n"
     ]
    },
    {
     "name": "stdout",
     "output_type": "stream",
     "text": [
      "Epoch 117/200, Train Loss: 0.0936, Train Accuracy: 0.9746, Test Loss: 0.1584, Test Accuracy: 0.9517\n"
     ]
    },
    {
     "name": "stderr",
     "output_type": "stream",
     "text": [
      "100%|██████████| 1875/1875 [00:05<00:00, 335.84it/s]\n"
     ]
    },
    {
     "name": "stdout",
     "output_type": "stream",
     "text": [
      "Epoch 118/200, Train Loss: 0.0932, Train Accuracy: 0.9745, Test Loss: 0.1576, Test Accuracy: 0.9515\n"
     ]
    },
    {
     "name": "stderr",
     "output_type": "stream",
     "text": [
      "100%|██████████| 1875/1875 [00:05<00:00, 337.94it/s]\n"
     ]
    },
    {
     "name": "stdout",
     "output_type": "stream",
     "text": [
      "Epoch 119/200, Train Loss: 0.0931, Train Accuracy: 0.9746, Test Loss: 0.1575, Test Accuracy: 0.9527\n"
     ]
    },
    {
     "name": "stderr",
     "output_type": "stream",
     "text": [
      "100%|██████████| 1875/1875 [00:05<00:00, 334.40it/s]\n"
     ]
    },
    {
     "name": "stdout",
     "output_type": "stream",
     "text": [
      "Epoch 120/200, Train Loss: 0.0915, Train Accuracy: 0.9751, Test Loss: 0.1569, Test Accuracy: 0.9520\n"
     ]
    },
    {
     "name": "stderr",
     "output_type": "stream",
     "text": [
      "100%|██████████| 1875/1875 [00:05<00:00, 334.75it/s]\n"
     ]
    },
    {
     "name": "stdout",
     "output_type": "stream",
     "text": [
      "Epoch 121/200, Train Loss: 0.0912, Train Accuracy: 0.9749, Test Loss: 0.1567, Test Accuracy: 0.9522\n"
     ]
    },
    {
     "name": "stderr",
     "output_type": "stream",
     "text": [
      "100%|██████████| 1875/1875 [00:05<00:00, 336.65it/s]\n"
     ]
    },
    {
     "name": "stdout",
     "output_type": "stream",
     "text": [
      "Epoch 122/200, Train Loss: 0.0906, Train Accuracy: 0.9754, Test Loss: 0.1562, Test Accuracy: 0.9515\n"
     ]
    },
    {
     "name": "stderr",
     "output_type": "stream",
     "text": [
      "100%|██████████| 1875/1875 [00:05<00:00, 335.88it/s]\n"
     ]
    },
    {
     "name": "stdout",
     "output_type": "stream",
     "text": [
      "Epoch 123/200, Train Loss: 0.0899, Train Accuracy: 0.9757, Test Loss: 0.1552, Test Accuracy: 0.9520\n"
     ]
    },
    {
     "name": "stderr",
     "output_type": "stream",
     "text": [
      "100%|██████████| 1875/1875 [00:05<00:00, 335.81it/s]\n"
     ]
    },
    {
     "name": "stdout",
     "output_type": "stream",
     "text": [
      "Epoch 124/200, Train Loss: 0.0894, Train Accuracy: 0.9758, Test Loss: 0.1556, Test Accuracy: 0.9526\n"
     ]
    },
    {
     "name": "stderr",
     "output_type": "stream",
     "text": [
      "100%|██████████| 1875/1875 [00:05<00:00, 334.67it/s]\n"
     ]
    },
    {
     "name": "stdout",
     "output_type": "stream",
     "text": [
      "Epoch 125/200, Train Loss: 0.0889, Train Accuracy: 0.9759, Test Loss: 0.1542, Test Accuracy: 0.9527\n"
     ]
    },
    {
     "name": "stderr",
     "output_type": "stream",
     "text": [
      "100%|██████████| 1875/1875 [00:05<00:00, 336.27it/s]\n"
     ]
    },
    {
     "name": "stdout",
     "output_type": "stream",
     "text": [
      "Epoch 126/200, Train Loss: 0.0883, Train Accuracy: 0.9759, Test Loss: 0.1545, Test Accuracy: 0.9522\n"
     ]
    },
    {
     "name": "stderr",
     "output_type": "stream",
     "text": [
      "100%|██████████| 1875/1875 [00:05<00:00, 332.85it/s]\n"
     ]
    },
    {
     "name": "stdout",
     "output_type": "stream",
     "text": [
      "Epoch 127/200, Train Loss: 0.0879, Train Accuracy: 0.9759, Test Loss: 0.1533, Test Accuracy: 0.9521\n"
     ]
    },
    {
     "name": "stderr",
     "output_type": "stream",
     "text": [
      "100%|██████████| 1875/1875 [00:05<00:00, 332.73it/s]\n"
     ]
    },
    {
     "name": "stdout",
     "output_type": "stream",
     "text": [
      "Epoch 128/200, Train Loss: 0.0876, Train Accuracy: 0.9764, Test Loss: 0.1543, Test Accuracy: 0.9527\n"
     ]
    },
    {
     "name": "stderr",
     "output_type": "stream",
     "text": [
      "100%|██████████| 1875/1875 [00:05<00:00, 333.54it/s]\n"
     ]
    },
    {
     "name": "stdout",
     "output_type": "stream",
     "text": [
      "Epoch 129/200, Train Loss: 0.0868, Train Accuracy: 0.9765, Test Loss: 0.1530, Test Accuracy: 0.9528\n"
     ]
    },
    {
     "name": "stderr",
     "output_type": "stream",
     "text": [
      "100%|██████████| 1875/1875 [00:05<00:00, 332.36it/s]\n"
     ]
    },
    {
     "name": "stdout",
     "output_type": "stream",
     "text": [
      "Epoch 130/200, Train Loss: 0.0866, Train Accuracy: 0.9764, Test Loss: 0.1525, Test Accuracy: 0.9520\n"
     ]
    },
    {
     "name": "stderr",
     "output_type": "stream",
     "text": [
      "100%|██████████| 1875/1875 [00:05<00:00, 333.70it/s]\n"
     ]
    },
    {
     "name": "stdout",
     "output_type": "stream",
     "text": [
      "Epoch 131/200, Train Loss: 0.0856, Train Accuracy: 0.9767, Test Loss: 0.1523, Test Accuracy: 0.9531\n"
     ]
    },
    {
     "name": "stderr",
     "output_type": "stream",
     "text": [
      "100%|██████████| 1875/1875 [00:05<00:00, 332.57it/s]\n"
     ]
    },
    {
     "name": "stdout",
     "output_type": "stream",
     "text": [
      "Epoch 132/200, Train Loss: 0.0853, Train Accuracy: 0.9768, Test Loss: 0.1521, Test Accuracy: 0.9537\n"
     ]
    },
    {
     "name": "stderr",
     "output_type": "stream",
     "text": [
      "100%|██████████| 1875/1875 [00:05<00:00, 335.56it/s]\n"
     ]
    },
    {
     "name": "stdout",
     "output_type": "stream",
     "text": [
      "Epoch 133/200, Train Loss: 0.0846, Train Accuracy: 0.9772, Test Loss: 0.1517, Test Accuracy: 0.9534\n"
     ]
    },
    {
     "name": "stderr",
     "output_type": "stream",
     "text": [
      "100%|██████████| 1875/1875 [00:05<00:00, 331.92it/s]\n"
     ]
    },
    {
     "name": "stdout",
     "output_type": "stream",
     "text": [
      "Epoch 134/200, Train Loss: 0.0841, Train Accuracy: 0.9772, Test Loss: 0.1514, Test Accuracy: 0.9544\n"
     ]
    },
    {
     "name": "stderr",
     "output_type": "stream",
     "text": [
      "100%|██████████| 1875/1875 [00:05<00:00, 334.81it/s]\n"
     ]
    },
    {
     "name": "stdout",
     "output_type": "stream",
     "text": [
      "Epoch 135/200, Train Loss: 0.0835, Train Accuracy: 0.9775, Test Loss: 0.1511, Test Accuracy: 0.9534\n"
     ]
    },
    {
     "name": "stderr",
     "output_type": "stream",
     "text": [
      "100%|██████████| 1875/1875 [00:05<00:00, 334.14it/s]\n"
     ]
    },
    {
     "name": "stdout",
     "output_type": "stream",
     "text": [
      "Epoch 136/200, Train Loss: 0.0830, Train Accuracy: 0.9775, Test Loss: 0.1510, Test Accuracy: 0.9537\n"
     ]
    },
    {
     "name": "stderr",
     "output_type": "stream",
     "text": [
      "100%|██████████| 1875/1875 [00:05<00:00, 335.78it/s]\n"
     ]
    },
    {
     "name": "stdout",
     "output_type": "stream",
     "text": [
      "Epoch 137/200, Train Loss: 0.0825, Train Accuracy: 0.9779, Test Loss: 0.1505, Test Accuracy: 0.9534\n"
     ]
    },
    {
     "name": "stderr",
     "output_type": "stream",
     "text": [
      "100%|██████████| 1875/1875 [00:05<00:00, 333.41it/s]\n"
     ]
    },
    {
     "name": "stdout",
     "output_type": "stream",
     "text": [
      "Epoch 138/200, Train Loss: 0.0821, Train Accuracy: 0.9779, Test Loss: 0.1501, Test Accuracy: 0.9537\n"
     ]
    },
    {
     "name": "stderr",
     "output_type": "stream",
     "text": [
      "100%|██████████| 1875/1875 [00:05<00:00, 328.70it/s]\n"
     ]
    },
    {
     "name": "stdout",
     "output_type": "stream",
     "text": [
      "Epoch 139/200, Train Loss: 0.0817, Train Accuracy: 0.9780, Test Loss: 0.1500, Test Accuracy: 0.9544\n"
     ]
    },
    {
     "name": "stderr",
     "output_type": "stream",
     "text": [
      "100%|██████████| 1875/1875 [00:05<00:00, 334.77it/s]\n"
     ]
    },
    {
     "name": "stdout",
     "output_type": "stream",
     "text": [
      "Epoch 140/200, Train Loss: 0.0811, Train Accuracy: 0.9781, Test Loss: 0.1501, Test Accuracy: 0.9538\n"
     ]
    },
    {
     "name": "stderr",
     "output_type": "stream",
     "text": [
      "100%|██████████| 1875/1875 [00:05<00:00, 335.63it/s]\n"
     ]
    },
    {
     "name": "stdout",
     "output_type": "stream",
     "text": [
      "Epoch 141/200, Train Loss: 0.0807, Train Accuracy: 0.9785, Test Loss: 0.1497, Test Accuracy: 0.9544\n"
     ]
    },
    {
     "name": "stderr",
     "output_type": "stream",
     "text": [
      "100%|██████████| 1875/1875 [00:05<00:00, 332.40it/s]\n"
     ]
    },
    {
     "name": "stdout",
     "output_type": "stream",
     "text": [
      "Epoch 142/200, Train Loss: 0.0802, Train Accuracy: 0.9785, Test Loss: 0.1495, Test Accuracy: 0.9540\n"
     ]
    },
    {
     "name": "stderr",
     "output_type": "stream",
     "text": [
      "100%|██████████| 1875/1875 [00:05<00:00, 335.33it/s]\n"
     ]
    },
    {
     "name": "stdout",
     "output_type": "stream",
     "text": [
      "Epoch 143/200, Train Loss: 0.0798, Train Accuracy: 0.9783, Test Loss: 0.1488, Test Accuracy: 0.9545\n"
     ]
    },
    {
     "name": "stderr",
     "output_type": "stream",
     "text": [
      "100%|██████████| 1875/1875 [00:05<00:00, 336.60it/s]\n"
     ]
    },
    {
     "name": "stdout",
     "output_type": "stream",
     "text": [
      "Epoch 144/200, Train Loss: 0.0796, Train Accuracy: 0.9784, Test Loss: 0.1477, Test Accuracy: 0.9538\n"
     ]
    },
    {
     "name": "stderr",
     "output_type": "stream",
     "text": [
      "100%|██████████| 1875/1875 [00:05<00:00, 333.83it/s]\n"
     ]
    },
    {
     "name": "stdout",
     "output_type": "stream",
     "text": [
      "Epoch 145/200, Train Loss: 0.0790, Train Accuracy: 0.9787, Test Loss: 0.1475, Test Accuracy: 0.9543\n"
     ]
    },
    {
     "name": "stderr",
     "output_type": "stream",
     "text": [
      "100%|██████████| 1875/1875 [00:05<00:00, 330.19it/s]\n"
     ]
    },
    {
     "name": "stdout",
     "output_type": "stream",
     "text": [
      "Epoch 146/200, Train Loss: 0.0782, Train Accuracy: 0.9791, Test Loss: 0.1475, Test Accuracy: 0.9551\n"
     ]
    },
    {
     "name": "stderr",
     "output_type": "stream",
     "text": [
      "100%|██████████| 1875/1875 [00:05<00:00, 334.53it/s]\n"
     ]
    },
    {
     "name": "stdout",
     "output_type": "stream",
     "text": [
      "Epoch 147/200, Train Loss: 0.0779, Train Accuracy: 0.9792, Test Loss: 0.1477, Test Accuracy: 0.9542\n"
     ]
    },
    {
     "name": "stderr",
     "output_type": "stream",
     "text": [
      "100%|██████████| 1875/1875 [00:05<00:00, 335.73it/s]\n"
     ]
    },
    {
     "name": "stdout",
     "output_type": "stream",
     "text": [
      "Epoch 148/200, Train Loss: 0.0775, Train Accuracy: 0.9792, Test Loss: 0.1479, Test Accuracy: 0.9544\n"
     ]
    },
    {
     "name": "stderr",
     "output_type": "stream",
     "text": [
      "100%|██████████| 1875/1875 [00:05<00:00, 329.06it/s]\n"
     ]
    },
    {
     "name": "stdout",
     "output_type": "stream",
     "text": [
      "Epoch 149/200, Train Loss: 0.0768, Train Accuracy: 0.9797, Test Loss: 0.1465, Test Accuracy: 0.9555\n"
     ]
    },
    {
     "name": "stderr",
     "output_type": "stream",
     "text": [
      "100%|██████████| 1875/1875 [00:05<00:00, 334.53it/s]\n"
     ]
    },
    {
     "name": "stdout",
     "output_type": "stream",
     "text": [
      "Epoch 150/200, Train Loss: 0.0764, Train Accuracy: 0.9794, Test Loss: 0.1464, Test Accuracy: 0.9545\n"
     ]
    },
    {
     "name": "stderr",
     "output_type": "stream",
     "text": [
      "100%|██████████| 1875/1875 [00:05<00:00, 324.46it/s]\n"
     ]
    },
    {
     "name": "stdout",
     "output_type": "stream",
     "text": [
      "Epoch 151/200, Train Loss: 0.0762, Train Accuracy: 0.9798, Test Loss: 0.1459, Test Accuracy: 0.9551\n"
     ]
    },
    {
     "name": "stderr",
     "output_type": "stream",
     "text": [
      "100%|██████████| 1875/1875 [00:05<00:00, 335.56it/s]\n"
     ]
    },
    {
     "name": "stdout",
     "output_type": "stream",
     "text": [
      "Epoch 152/200, Train Loss: 0.0755, Train Accuracy: 0.9801, Test Loss: 0.1454, Test Accuracy: 0.9556\n"
     ]
    },
    {
     "name": "stderr",
     "output_type": "stream",
     "text": [
      "100%|██████████| 1875/1875 [00:05<00:00, 336.89it/s]\n"
     ]
    },
    {
     "name": "stdout",
     "output_type": "stream",
     "text": [
      "Epoch 153/200, Train Loss: 0.0752, Train Accuracy: 0.9801, Test Loss: 0.1455, Test Accuracy: 0.9558\n"
     ]
    },
    {
     "name": "stderr",
     "output_type": "stream",
     "text": [
      "100%|██████████| 1875/1875 [00:05<00:00, 330.78it/s]\n"
     ]
    },
    {
     "name": "stdout",
     "output_type": "stream",
     "text": [
      "Epoch 154/200, Train Loss: 0.0747, Train Accuracy: 0.9804, Test Loss: 0.1451, Test Accuracy: 0.9562\n"
     ]
    },
    {
     "name": "stderr",
     "output_type": "stream",
     "text": [
      "100%|██████████| 1875/1875 [00:05<00:00, 336.43it/s]\n"
     ]
    },
    {
     "name": "stdout",
     "output_type": "stream",
     "text": [
      "Epoch 155/200, Train Loss: 0.0743, Train Accuracy: 0.9804, Test Loss: 0.1449, Test Accuracy: 0.9554\n"
     ]
    },
    {
     "name": "stderr",
     "output_type": "stream",
     "text": [
      "100%|██████████| 1875/1875 [00:05<00:00, 328.22it/s]\n"
     ]
    },
    {
     "name": "stdout",
     "output_type": "stream",
     "text": [
      "Epoch 156/200, Train Loss: 0.0739, Train Accuracy: 0.9805, Test Loss: 0.1452, Test Accuracy: 0.9560\n"
     ]
    },
    {
     "name": "stderr",
     "output_type": "stream",
     "text": [
      "100%|██████████| 1875/1875 [00:05<00:00, 333.59it/s]\n"
     ]
    },
    {
     "name": "stdout",
     "output_type": "stream",
     "text": [
      "Epoch 157/200, Train Loss: 0.0736, Train Accuracy: 0.9804, Test Loss: 0.1451, Test Accuracy: 0.9558\n"
     ]
    },
    {
     "name": "stderr",
     "output_type": "stream",
     "text": [
      "100%|██████████| 1875/1875 [00:05<00:00, 332.83it/s]\n"
     ]
    },
    {
     "name": "stdout",
     "output_type": "stream",
     "text": [
      "Epoch 158/200, Train Loss: 0.0730, Train Accuracy: 0.9808, Test Loss: 0.1442, Test Accuracy: 0.9559\n"
     ]
    },
    {
     "name": "stderr",
     "output_type": "stream",
     "text": [
      "100%|██████████| 1875/1875 [00:05<00:00, 335.43it/s]\n"
     ]
    },
    {
     "name": "stdout",
     "output_type": "stream",
     "text": [
      "Epoch 159/200, Train Loss: 0.0725, Train Accuracy: 0.9809, Test Loss: 0.1437, Test Accuracy: 0.9561\n"
     ]
    },
    {
     "name": "stderr",
     "output_type": "stream",
     "text": [
      "100%|██████████| 1875/1875 [00:05<00:00, 331.99it/s]\n"
     ]
    },
    {
     "name": "stdout",
     "output_type": "stream",
     "text": [
      "Epoch 160/200, Train Loss: 0.0725, Train Accuracy: 0.9808, Test Loss: 0.1441, Test Accuracy: 0.9563\n"
     ]
    },
    {
     "name": "stderr",
     "output_type": "stream",
     "text": [
      "100%|██████████| 1875/1875 [00:05<00:00, 333.83it/s]\n"
     ]
    },
    {
     "name": "stdout",
     "output_type": "stream",
     "text": [
      "Epoch 161/200, Train Loss: 0.0720, Train Accuracy: 0.9809, Test Loss: 0.1441, Test Accuracy: 0.9567\n"
     ]
    },
    {
     "name": "stderr",
     "output_type": "stream",
     "text": [
      "100%|██████████| 1875/1875 [00:05<00:00, 336.39it/s]\n"
     ]
    },
    {
     "name": "stdout",
     "output_type": "stream",
     "text": [
      "Epoch 162/200, Train Loss: 0.0717, Train Accuracy: 0.9813, Test Loss: 0.1436, Test Accuracy: 0.9562\n"
     ]
    },
    {
     "name": "stderr",
     "output_type": "stream",
     "text": [
      "100%|██████████| 1875/1875 [00:05<00:00, 331.61it/s]\n"
     ]
    },
    {
     "name": "stdout",
     "output_type": "stream",
     "text": [
      "Epoch 163/200, Train Loss: 0.0713, Train Accuracy: 0.9808, Test Loss: 0.1429, Test Accuracy: 0.9563\n"
     ]
    },
    {
     "name": "stderr",
     "output_type": "stream",
     "text": [
      "100%|██████████| 1875/1875 [00:05<00:00, 333.35it/s]\n"
     ]
    },
    {
     "name": "stdout",
     "output_type": "stream",
     "text": [
      "Epoch 164/200, Train Loss: 0.0706, Train Accuracy: 0.9815, Test Loss: 0.1431, Test Accuracy: 0.9564\n"
     ]
    },
    {
     "name": "stderr",
     "output_type": "stream",
     "text": [
      "100%|██████████| 1875/1875 [00:05<00:00, 332.90it/s]\n"
     ]
    },
    {
     "name": "stdout",
     "output_type": "stream",
     "text": [
      "Epoch 165/200, Train Loss: 0.0704, Train Accuracy: 0.9817, Test Loss: 0.1424, Test Accuracy: 0.9567\n"
     ]
    },
    {
     "name": "stderr",
     "output_type": "stream",
     "text": [
      "100%|██████████| 1875/1875 [00:05<00:00, 334.59it/s]\n"
     ]
    },
    {
     "name": "stdout",
     "output_type": "stream",
     "text": [
      "Epoch 166/200, Train Loss: 0.0698, Train Accuracy: 0.9818, Test Loss: 0.1424, Test Accuracy: 0.9566\n"
     ]
    },
    {
     "name": "stderr",
     "output_type": "stream",
     "text": [
      "100%|██████████| 1875/1875 [00:05<00:00, 332.90it/s]\n"
     ]
    },
    {
     "name": "stdout",
     "output_type": "stream",
     "text": [
      "Epoch 167/200, Train Loss: 0.0695, Train Accuracy: 0.9819, Test Loss: 0.1419, Test Accuracy: 0.9565\n"
     ]
    },
    {
     "name": "stderr",
     "output_type": "stream",
     "text": [
      "100%|██████████| 1875/1875 [00:05<00:00, 332.99it/s]\n"
     ]
    },
    {
     "name": "stdout",
     "output_type": "stream",
     "text": [
      "Epoch 168/200, Train Loss: 0.0692, Train Accuracy: 0.9821, Test Loss: 0.1419, Test Accuracy: 0.9573\n"
     ]
    },
    {
     "name": "stderr",
     "output_type": "stream",
     "text": [
      "100%|██████████| 1875/1875 [00:05<00:00, 331.04it/s]\n"
     ]
    },
    {
     "name": "stdout",
     "output_type": "stream",
     "text": [
      "Epoch 169/200, Train Loss: 0.0686, Train Accuracy: 0.9821, Test Loss: 0.1414, Test Accuracy: 0.9571\n"
     ]
    },
    {
     "name": "stderr",
     "output_type": "stream",
     "text": [
      "100%|██████████| 1875/1875 [00:05<00:00, 336.61it/s]\n"
     ]
    },
    {
     "name": "stdout",
     "output_type": "stream",
     "text": [
      "Epoch 170/200, Train Loss: 0.0683, Train Accuracy: 0.9823, Test Loss: 0.1415, Test Accuracy: 0.9566\n"
     ]
    },
    {
     "name": "stderr",
     "output_type": "stream",
     "text": [
      "100%|██████████| 1875/1875 [00:05<00:00, 332.83it/s]\n"
     ]
    },
    {
     "name": "stdout",
     "output_type": "stream",
     "text": [
      "Epoch 171/200, Train Loss: 0.0682, Train Accuracy: 0.9823, Test Loss: 0.1416, Test Accuracy: 0.9572\n"
     ]
    },
    {
     "name": "stderr",
     "output_type": "stream",
     "text": [
      "100%|██████████| 1875/1875 [00:05<00:00, 332.71it/s]\n"
     ]
    },
    {
     "name": "stdout",
     "output_type": "stream",
     "text": [
      "Epoch 172/200, Train Loss: 0.0676, Train Accuracy: 0.9826, Test Loss: 0.1410, Test Accuracy: 0.9580\n"
     ]
    },
    {
     "name": "stderr",
     "output_type": "stream",
     "text": [
      "100%|██████████| 1875/1875 [00:05<00:00, 334.47it/s]\n"
     ]
    },
    {
     "name": "stdout",
     "output_type": "stream",
     "text": [
      "Epoch 173/200, Train Loss: 0.0675, Train Accuracy: 0.9821, Test Loss: 0.1410, Test Accuracy: 0.9566\n"
     ]
    },
    {
     "name": "stderr",
     "output_type": "stream",
     "text": [
      "100%|██████████| 1875/1875 [00:05<00:00, 330.63it/s]\n"
     ]
    },
    {
     "name": "stdout",
     "output_type": "stream",
     "text": [
      "Epoch 174/200, Train Loss: 0.0670, Train Accuracy: 0.9826, Test Loss: 0.1405, Test Accuracy: 0.9571\n"
     ]
    },
    {
     "name": "stderr",
     "output_type": "stream",
     "text": [
      "100%|██████████| 1875/1875 [00:05<00:00, 329.79it/s]\n"
     ]
    },
    {
     "name": "stdout",
     "output_type": "stream",
     "text": [
      "Epoch 175/200, Train Loss: 0.0666, Train Accuracy: 0.9828, Test Loss: 0.1401, Test Accuracy: 0.9579\n"
     ]
    },
    {
     "name": "stderr",
     "output_type": "stream",
     "text": [
      "100%|██████████| 1875/1875 [00:05<00:00, 333.92it/s]\n"
     ]
    },
    {
     "name": "stdout",
     "output_type": "stream",
     "text": [
      "Epoch 176/200, Train Loss: 0.0662, Train Accuracy: 0.9826, Test Loss: 0.1393, Test Accuracy: 0.9572\n"
     ]
    },
    {
     "name": "stderr",
     "output_type": "stream",
     "text": [
      "100%|██████████| 1875/1875 [00:05<00:00, 334.78it/s]\n"
     ]
    },
    {
     "name": "stdout",
     "output_type": "stream",
     "text": [
      "Epoch 177/200, Train Loss: 0.0659, Train Accuracy: 0.9834, Test Loss: 0.1402, Test Accuracy: 0.9575\n"
     ]
    },
    {
     "name": "stderr",
     "output_type": "stream",
     "text": [
      "100%|██████████| 1875/1875 [00:05<00:00, 332.90it/s]\n"
     ]
    },
    {
     "name": "stdout",
     "output_type": "stream",
     "text": [
      "Epoch 178/200, Train Loss: 0.0654, Train Accuracy: 0.9833, Test Loss: 0.1397, Test Accuracy: 0.9572\n"
     ]
    },
    {
     "name": "stderr",
     "output_type": "stream",
     "text": [
      "100%|██████████| 1875/1875 [00:05<00:00, 334.15it/s]\n"
     ]
    },
    {
     "name": "stdout",
     "output_type": "stream",
     "text": [
      "Epoch 179/200, Train Loss: 0.0660, Train Accuracy: 0.9828, Test Loss: 0.1404, Test Accuracy: 0.9575\n"
     ]
    },
    {
     "name": "stderr",
     "output_type": "stream",
     "text": [
      "100%|██████████| 1875/1875 [00:05<00:00, 335.85it/s]\n"
     ]
    },
    {
     "name": "stdout",
     "output_type": "stream",
     "text": [
      "Epoch 180/200, Train Loss: 0.0648, Train Accuracy: 0.9837, Test Loss: 0.1395, Test Accuracy: 0.9582\n"
     ]
    },
    {
     "name": "stderr",
     "output_type": "stream",
     "text": [
      "100%|██████████| 1875/1875 [00:05<00:00, 332.89it/s]\n"
     ]
    },
    {
     "name": "stdout",
     "output_type": "stream",
     "text": [
      "Epoch 181/200, Train Loss: 0.0644, Train Accuracy: 0.9837, Test Loss: 0.1389, Test Accuracy: 0.9583\n"
     ]
    },
    {
     "name": "stderr",
     "output_type": "stream",
     "text": [
      "100%|██████████| 1875/1875 [00:05<00:00, 334.65it/s]\n"
     ]
    },
    {
     "name": "stdout",
     "output_type": "stream",
     "text": [
      "Epoch 182/200, Train Loss: 0.0640, Train Accuracy: 0.9838, Test Loss: 0.1390, Test Accuracy: 0.9581\n"
     ]
    },
    {
     "name": "stderr",
     "output_type": "stream",
     "text": [
      "100%|██████████| 1875/1875 [00:05<00:00, 334.56it/s]\n"
     ]
    },
    {
     "name": "stdout",
     "output_type": "stream",
     "text": [
      "Epoch 183/200, Train Loss: 0.0637, Train Accuracy: 0.9840, Test Loss: 0.1387, Test Accuracy: 0.9574\n"
     ]
    },
    {
     "name": "stderr",
     "output_type": "stream",
     "text": [
      "100%|██████████| 1875/1875 [00:05<00:00, 339.94it/s]\n"
     ]
    },
    {
     "name": "stdout",
     "output_type": "stream",
     "text": [
      "Epoch 184/200, Train Loss: 0.0633, Train Accuracy: 0.9839, Test Loss: 0.1379, Test Accuracy: 0.9581\n"
     ]
    },
    {
     "name": "stderr",
     "output_type": "stream",
     "text": [
      "100%|██████████| 1875/1875 [00:05<00:00, 329.25it/s]\n"
     ]
    },
    {
     "name": "stdout",
     "output_type": "stream",
     "text": [
      "Epoch 185/200, Train Loss: 0.0630, Train Accuracy: 0.9842, Test Loss: 0.1382, Test Accuracy: 0.9581\n"
     ]
    },
    {
     "name": "stderr",
     "output_type": "stream",
     "text": [
      "100%|██████████| 1875/1875 [00:05<00:00, 332.60it/s]\n"
     ]
    },
    {
     "name": "stdout",
     "output_type": "stream",
     "text": [
      "Epoch 186/200, Train Loss: 0.0627, Train Accuracy: 0.9843, Test Loss: 0.1378, Test Accuracy: 0.9581\n"
     ]
    },
    {
     "name": "stderr",
     "output_type": "stream",
     "text": [
      "100%|██████████| 1875/1875 [00:05<00:00, 334.64it/s]\n"
     ]
    },
    {
     "name": "stdout",
     "output_type": "stream",
     "text": [
      "Epoch 187/200, Train Loss: 0.0625, Train Accuracy: 0.9843, Test Loss: 0.1378, Test Accuracy: 0.9582\n"
     ]
    },
    {
     "name": "stderr",
     "output_type": "stream",
     "text": [
      "100%|██████████| 1875/1875 [00:05<00:00, 338.59it/s]\n"
     ]
    },
    {
     "name": "stdout",
     "output_type": "stream",
     "text": [
      "Epoch 188/200, Train Loss: 0.0620, Train Accuracy: 0.9845, Test Loss: 0.1375, Test Accuracy: 0.9582\n"
     ]
    },
    {
     "name": "stderr",
     "output_type": "stream",
     "text": [
      "100%|██████████| 1875/1875 [00:05<00:00, 331.65it/s]\n"
     ]
    },
    {
     "name": "stdout",
     "output_type": "stream",
     "text": [
      "Epoch 189/200, Train Loss: 0.0618, Train Accuracy: 0.9845, Test Loss: 0.1375, Test Accuracy: 0.9585\n"
     ]
    },
    {
     "name": "stderr",
     "output_type": "stream",
     "text": [
      "100%|██████████| 1875/1875 [00:05<00:00, 336.78it/s]\n"
     ]
    },
    {
     "name": "stdout",
     "output_type": "stream",
     "text": [
      "Epoch 190/200, Train Loss: 0.0618, Train Accuracy: 0.9845, Test Loss: 0.1379, Test Accuracy: 0.9580\n"
     ]
    },
    {
     "name": "stderr",
     "output_type": "stream",
     "text": [
      "100%|██████████| 1875/1875 [00:05<00:00, 333.32it/s]\n"
     ]
    },
    {
     "name": "stdout",
     "output_type": "stream",
     "text": [
      "Epoch 191/200, Train Loss: 0.0611, Train Accuracy: 0.9847, Test Loss: 0.1370, Test Accuracy: 0.9589\n"
     ]
    },
    {
     "name": "stderr",
     "output_type": "stream",
     "text": [
      "100%|██████████| 1875/1875 [00:05<00:00, 337.21it/s]\n"
     ]
    },
    {
     "name": "stdout",
     "output_type": "stream",
     "text": [
      "Epoch 192/200, Train Loss: 0.0607, Train Accuracy: 0.9849, Test Loss: 0.1371, Test Accuracy: 0.9585\n"
     ]
    },
    {
     "name": "stderr",
     "output_type": "stream",
     "text": [
      "100%|██████████| 1875/1875 [00:05<00:00, 332.78it/s]\n"
     ]
    },
    {
     "name": "stdout",
     "output_type": "stream",
     "text": [
      "Epoch 193/200, Train Loss: 0.0604, Train Accuracy: 0.9848, Test Loss: 0.1366, Test Accuracy: 0.9590\n"
     ]
    },
    {
     "name": "stderr",
     "output_type": "stream",
     "text": [
      "100%|██████████| 1875/1875 [00:05<00:00, 335.70it/s]\n"
     ]
    },
    {
     "name": "stdout",
     "output_type": "stream",
     "text": [
      "Epoch 194/200, Train Loss: 0.0602, Train Accuracy: 0.9850, Test Loss: 0.1360, Test Accuracy: 0.9582\n"
     ]
    },
    {
     "name": "stderr",
     "output_type": "stream",
     "text": [
      "100%|██████████| 1875/1875 [00:05<00:00, 331.12it/s]\n"
     ]
    },
    {
     "name": "stdout",
     "output_type": "stream",
     "text": [
      "Epoch 195/200, Train Loss: 0.0599, Train Accuracy: 0.9852, Test Loss: 0.1361, Test Accuracy: 0.9585\n"
     ]
    },
    {
     "name": "stderr",
     "output_type": "stream",
     "text": [
      "100%|██████████| 1875/1875 [00:05<00:00, 335.37it/s]\n"
     ]
    },
    {
     "name": "stdout",
     "output_type": "stream",
     "text": [
      "Epoch 196/200, Train Loss: 0.0596, Train Accuracy: 0.9853, Test Loss: 0.1361, Test Accuracy: 0.9589\n"
     ]
    },
    {
     "name": "stderr",
     "output_type": "stream",
     "text": [
      "100%|██████████| 1875/1875 [00:05<00:00, 331.87it/s]\n"
     ]
    },
    {
     "name": "stdout",
     "output_type": "stream",
     "text": [
      "Epoch 197/200, Train Loss: 0.0592, Train Accuracy: 0.9854, Test Loss: 0.1356, Test Accuracy: 0.9590\n"
     ]
    },
    {
     "name": "stderr",
     "output_type": "stream",
     "text": [
      "100%|██████████| 1875/1875 [00:05<00:00, 336.54it/s]\n"
     ]
    },
    {
     "name": "stdout",
     "output_type": "stream",
     "text": [
      "Epoch 198/200, Train Loss: 0.0589, Train Accuracy: 0.9855, Test Loss: 0.1356, Test Accuracy: 0.9594\n"
     ]
    },
    {
     "name": "stderr",
     "output_type": "stream",
     "text": [
      "100%|██████████| 1875/1875 [00:05<00:00, 334.63it/s]\n"
     ]
    },
    {
     "name": "stdout",
     "output_type": "stream",
     "text": [
      "Epoch 199/200, Train Loss: 0.0587, Train Accuracy: 0.9853, Test Loss: 0.1358, Test Accuracy: 0.9588\n"
     ]
    },
    {
     "name": "stderr",
     "output_type": "stream",
     "text": [
      "100%|██████████| 1875/1875 [00:05<00:00, 332.08it/s]\n"
     ]
    },
    {
     "name": "stdout",
     "output_type": "stream",
     "text": [
      "Epoch 200/200, Train Loss: 0.0584, Train Accuracy: 0.9856, Test Loss: 0.1354, Test Accuracy: 0.9592\n"
     ]
    }
   ],
   "source": [
    "# Hyperparameters\n",
    "from tqdm import tqdm\n",
    "learning_rate = 0.01\n",
    "epochs = 200\n",
    "batch_size = 32\n",
    "d1 = 300\n",
    "\n",
    "# Weight initalization with weights = 0\n",
    "# W1 = np.zeros((hidden_units, 784))\n",
    "# W2 = np.zeros((10, hidden_units))\n",
    "\n",
    "# Weight Initialization with +1 to -1\n",
    "W1 = np.random.rand(d1, 784)\n",
    "W2 = np.random.rand(10, d1)\n",
    "\n",
    "W1 = 2 * W1 - 1\n",
    "W2 = 2 * W2 - 1\n",
    "\n",
    "train_loss_array = []\n",
    "train_acc_array = []\n",
    "test_loss_array = []\n",
    "test_acc_array = []\n",
    "\n",
    "for epoch in range(epochs):\n",
    "    # Shuffle the dataset\n",
    "    permutation = np.random.permutation(train_images.shape[0])\n",
    "    train_images = train_images[permutation]\n",
    "    train_labels = train_labels[permutation]\n",
    "    \n",
    "    for i in tqdm(range(0, train_images.shape[0], batch_size)):\n",
    "        x_batch = train_images[i:i+batch_size]\n",
    "        y_batch = train_labels[i:i+batch_size]\n",
    "        \n",
    "        z, a, h, y_pred = feedforward(x_batch.T, W1, W2)\n",
    "        dW1, dW2 = backpropagation(x_batch.T, y_batch.T, y_pred, W2, z, a)\n",
    "        \n",
    "        W1 -= learning_rate * dW1\n",
    "        W2 -= learning_rate * dW2\n",
    "        \n",
    "    # Calculate training loss and accuracy after each epoch\n",
    "    _, _, _, y_train_pred = feedforward(train_images.T, W1, W2)\n",
    "    _, _, _, y_test_pred = feedforward(test_images.T, W1, W2)\n",
    "    train_loss = -np.mean(np.sum(train_labels * np.log(y_train_pred.T), axis=1))\n",
    "    train_acc = np.mean(np.argmax(y_train_pred, axis=0) == np.argmax(train_labels, axis=1))\n",
    "    test_loss = -np.mean(np.sum(test_labels * np.log(y_test_pred.T), axis=1))\n",
    "    test_acc = np.mean(np.argmax(y_test_pred, axis=0) == np.argmax(test_labels, axis=1))\n",
    "    \n",
    "    train_loss_array.append(train_loss)\n",
    "    train_acc_array.append(train_acc)\n",
    "    test_loss_array.append(test_loss)\n",
    "    test_acc_array.append(test_acc)\n",
    "\n",
    "    print(f\"Epoch {epoch+1}/{epochs}, Train Loss: {train_loss:.4f}, Train Accuracy: {train_acc:.4f}, Test Loss: {test_loss:.4f}, Test Accuracy: {test_acc:.4f}\")\n"
   ]
  },
  {
   "cell_type": "code",
   "execution_count": 16,
   "metadata": {},
   "outputs": [
    {
     "data": {
      "text/plain": [
       "((300, 784), (10, 300))"
      ]
     },
     "execution_count": 16,
     "metadata": {},
     "output_type": "execute_result"
    }
   ],
   "source": [
    "W1.shape, W2.shape"
   ]
  },
  {
   "cell_type": "markdown",
   "metadata": {},
   "source": [
    "### Evaluate the model"
   ]
  },
  {
   "cell_type": "code",
   "execution_count": 17,
   "metadata": {},
   "outputs": [
    {
     "name": "stdout",
     "output_type": "stream",
     "text": [
      "Test Loss: 0.1354, Test Accuracy: 0.9592\n"
     ]
    }
   ],
   "source": [
    "_, _, _, y_test_pred = feedforward(test_images.T, W1, W2)\n",
    "test_loss = -np.mean(np.sum(test_labels * np.log(y_test_pred.T), axis=1))\n",
    "test_acc = np.mean(np.argmax(y_test_pred, axis=0) == np.argmax(test_labels, axis=1))\n",
    "print(f\"Test Loss: {test_loss:.4f}, Test Accuracy: {test_acc:.4f}\")\n"
   ]
  },
  {
   "cell_type": "markdown",
   "metadata": {},
   "source": [
    "### Plot the Train and test Loss curve"
   ]
  },
  {
   "cell_type": "code",
   "execution_count": 18,
   "metadata": {},
   "outputs": [
    {
     "data": {
      "image/png": "[encoded data removed]",
      "text/plain": [
       "<Figure size 640x480 with 1 Axes>"
      ]
     },
     "metadata": {},
     "output_type": "display_data"
    }
   ],
   "source": [
    "import matplotlib.pyplot as plt\n",
    "\n",
    "plt.plot(range(1, epochs+1), train_loss_array)\n",
    "plt.plot(range(1, epochs+1), test_loss_array)\n",
    "plt.legend(['Training Loss', \"Testing Loss\"])\n",
    "plt.show()"
   ]
  },
  {
   "cell_type": "code",
   "execution_count": 19,
   "metadata": {},
   "outputs": [
    {
     "data": {
      "image/png": "[encoded data removed]",
      "text/plain": [
       "<Figure size 640x480 with 1 Axes>"
      ]
     },
     "metadata": {},
     "output_type": "display_data"
    }
   ],
   "source": [
    "plt.plot(range(1, epochs+1), train_acc_array)\n",
    "plt.plot(range(1, epochs+1), test_acc_array)\n",
    "plt.legend(['Training Acc', \"Testing Acc\"])\n",
    "plt.show()"
   ]
  },
  {
   "cell_type": "markdown",
   "metadata": {},
   "source": [
    "### Tensorflow Implementation"
   ]
  },
  {
   "cell_type": "code",
   "execution_count": 25,
   "metadata": {},
   "outputs": [
    {
     "data": {
      "text/plain": [
       "(60000, 784)"
      ]
     },
     "execution_count": 25,
     "metadata": {},
     "output_type": "execute_result"
    }
   ],
   "source": [
    "import tensorflow as tf\n",
    "import numpy as np\n",
    "from tensorflow.keras.datasets import mnist\n",
    "\n",
    "\n",
    "(train_images, train_labels), (test_images, test_labels) = mnist.load_data()\n",
    "\n",
    "\n",
    "\n",
    "# Flatten the images and normalize\n",
    "train_images = train_images.reshape(train_images.shape[0], -1) / 255.0\n",
    "test_images = test_images.reshape(test_images.shape[0], -1) / 255.0\n",
    "\n",
    "# Convert labels to one-hot encoded format\n",
    "def one_hot_encode(y, num_classes):\n",
    "    one_hot = np.zeros((y.shape[0], num_classes))\n",
    "    one_hot[np.arange(y.shape[0]), y] = 1\n",
    "    return one_hot\n",
    "\n",
    "train_labels = one_hot_encode(train_labels, 10)\n",
    "test_labels = one_hot_encode(test_labels, 10)\n",
    "\n",
    "train_images.shape\n"
   ]
  },
  {
   "cell_type": "code",
   "execution_count": 32,
   "metadata": {},
   "outputs": [
    {
     "name": "stdout",
     "output_type": "stream",
     "text": [
      "Model: \"sequential_8\"\n",
      "_________________________________________________________________\n",
      " Layer (type)                Output Shape              Param #   \n",
      "=================================================================\n",
      " dense_16 (Dense)            (None, 200)               157000    \n",
      "                                                                 \n",
      " dense_17 (Dense)            (None, 10)                2010      \n",
      "                                                                 \n",
      "=================================================================\n",
      "Total params: 159010 (621.13 KB)\n",
      "Trainable params: 159010 (621.13 KB)\n",
      "Non-trainable params: 0 (0.00 Byte)\n",
      "_________________________________________________________________\n"
     ]
    },
    {
     "name": "stdout",
     "output_type": "stream",
     "text": [
      "Epoch 1/200\n",
      "1875/1875 [==============================] - 5s 3ms/step - loss: 1.3740 - accuracy: 0.7146 - val_loss: 0.8080 - val_accuracy: 0.8385\n",
      "Epoch 2/200\n",
      "1875/1875 [==============================] - 4s 2ms/step - loss: 0.6646 - accuracy: 0.8518 - val_loss: 0.5381 - val_accuracy: 0.8714\n",
      "Epoch 3/200\n",
      "1875/1875 [==============================] - 4s 2ms/step - loss: 0.5041 - accuracy: 0.8748 - val_loss: 0.4436 - val_accuracy: 0.8880\n",
      "Epoch 4/200\n",
      "1875/1875 [==============================] - 4s 2ms/step - loss: 0.4366 - accuracy: 0.8856 - val_loss: 0.3956 - val_accuracy: 0.8941\n",
      "Epoch 5/200\n",
      "1875/1875 [==============================] - 4s 2ms/step - loss: 0.3987 - accuracy: 0.8922 - val_loss: 0.3674 - val_accuracy: 0.9001\n",
      "Epoch 6/200\n",
      "1875/1875 [==============================] - 5s 3ms/step - loss: 0.3741 - accuracy: 0.8969 - val_loss: 0.3508 - val_accuracy: 0.9030\n",
      "Epoch 7/200\n",
      "1875/1875 [==============================] - 6s 3ms/step - loss: 0.3567 - accuracy: 0.8999 - val_loss: 0.3344 - val_accuracy: 0.9066\n",
      "Epoch 8/200\n",
      "1875/1875 [==============================] - 6s 3ms/step - loss: 0.3435 - accuracy: 0.9028 - val_loss: 0.3241 - val_accuracy: 0.9088\n",
      "Epoch 9/200\n",
      "1875/1875 [==============================] - 6s 3ms/step - loss: 0.3329 - accuracy: 0.9055 - val_loss: 0.3157 - val_accuracy: 0.9102\n",
      "Epoch 10/200\n",
      "1875/1875 [==============================] - 6s 3ms/step - loss: 0.3243 - accuracy: 0.9081 - val_loss: 0.3076 - val_accuracy: 0.9115\n",
      "Epoch 11/200\n",
      "1875/1875 [==============================] - 5s 3ms/step - loss: 0.3166 - accuracy: 0.9100 - val_loss: 0.3009 - val_accuracy: 0.9138\n",
      "Epoch 12/200\n",
      "1875/1875 [==============================] - 5s 3ms/step - loss: 0.3103 - accuracy: 0.9117 - val_loss: 0.2957 - val_accuracy: 0.9160\n",
      "Epoch 13/200\n",
      "1875/1875 [==============================] - 6s 3ms/step - loss: 0.3043 - accuracy: 0.9127 - val_loss: 0.2912 - val_accuracy: 0.9165\n",
      "Epoch 14/200\n",
      "1875/1875 [==============================] - 6s 3ms/step - loss: 0.2992 - accuracy: 0.9147 - val_loss: 0.2870 - val_accuracy: 0.9197\n",
      "Epoch 15/200\n",
      "1875/1875 [==============================] - 5s 3ms/step - loss: 0.2946 - accuracy: 0.9154 - val_loss: 0.2830 - val_accuracy: 0.9201\n",
      "Epoch 16/200\n",
      "1875/1875 [==============================] - 6s 3ms/step - loss: 0.2901 - accuracy: 0.9164 - val_loss: 0.2791 - val_accuracy: 0.9214\n",
      "Epoch 17/200\n",
      "1875/1875 [==============================] - 6s 3ms/step - loss: 0.2859 - accuracy: 0.9177 - val_loss: 0.2751 - val_accuracy: 0.9222\n",
      "Epoch 18/200\n",
      "1875/1875 [==============================] - 6s 3ms/step - loss: 0.2821 - accuracy: 0.9187 - val_loss: 0.2725 - val_accuracy: 0.9225\n",
      "Epoch 19/200\n",
      "1875/1875 [==============================] - 7s 3ms/step - loss: 0.2782 - accuracy: 0.9199 - val_loss: 0.2703 - val_accuracy: 0.9236\n",
      "Epoch 20/200\n",
      "1875/1875 [==============================] - 6s 3ms/step - loss: 0.2746 - accuracy: 0.9212 - val_loss: 0.2663 - val_accuracy: 0.9253\n",
      "Epoch 21/200\n",
      "1875/1875 [==============================] - 6s 3ms/step - loss: 0.2713 - accuracy: 0.9223 - val_loss: 0.2638 - val_accuracy: 0.9241\n",
      "Epoch 22/200\n",
      "1875/1875 [==============================] - 6s 3ms/step - loss: 0.2679 - accuracy: 0.9231 - val_loss: 0.2606 - val_accuracy: 0.9260\n",
      "Epoch 23/200\n",
      "1875/1875 [==============================] - 6s 3ms/step - loss: 0.2645 - accuracy: 0.9238 - val_loss: 0.2580 - val_accuracy: 0.9272\n",
      "Epoch 24/200\n",
      "1875/1875 [==============================] - 6s 3ms/step - loss: 0.2613 - accuracy: 0.9251 - val_loss: 0.2562 - val_accuracy: 0.9273\n",
      "Epoch 25/200\n",
      "1875/1875 [==============================] - 5s 3ms/step - loss: 0.2583 - accuracy: 0.9267 - val_loss: 0.2517 - val_accuracy: 0.9287\n",
      "Epoch 26/200\n",
      "1875/1875 [==============================] - 6s 3ms/step - loss: 0.2553 - accuracy: 0.9267 - val_loss: 0.2499 - val_accuracy: 0.9289\n",
      "Epoch 27/200\n",
      "1875/1875 [==============================] - 7s 3ms/step - loss: 0.2522 - accuracy: 0.9277 - val_loss: 0.2480 - val_accuracy: 0.9298\n",
      "Epoch 28/200\n",
      "1875/1875 [==============================] - 7s 4ms/step - loss: 0.2492 - accuracy: 0.9291 - val_loss: 0.2443 - val_accuracy: 0.9299\n",
      "Epoch 29/200\n",
      "1875/1875 [==============================] - 7s 3ms/step - loss: 0.2463 - accuracy: 0.9298 - val_loss: 0.2425 - val_accuracy: 0.9307\n",
      "Epoch 30/200\n",
      "1875/1875 [==============================] - 7s 4ms/step - loss: 0.2433 - accuracy: 0.9302 - val_loss: 0.2402 - val_accuracy: 0.9308\n",
      "Epoch 31/200\n",
      "1875/1875 [==============================] - 7s 4ms/step - loss: 0.2406 - accuracy: 0.9313 - val_loss: 0.2361 - val_accuracy: 0.9322\n",
      "Epoch 32/200\n",
      "1875/1875 [==============================] - 7s 3ms/step - loss: 0.2377 - accuracy: 0.9326 - val_loss: 0.2343 - val_accuracy: 0.9328\n",
      "Epoch 33/200\n",
      "1875/1875 [==============================] - 6s 3ms/step - loss: 0.2350 - accuracy: 0.9330 - val_loss: 0.2315 - val_accuracy: 0.9339\n",
      "Epoch 34/200\n",
      "1875/1875 [==============================] - 5s 3ms/step - loss: 0.2324 - accuracy: 0.9340 - val_loss: 0.2292 - val_accuracy: 0.9344\n",
      "Epoch 35/200\n",
      "1875/1875 [==============================] - 5s 3ms/step - loss: 0.2296 - accuracy: 0.9348 - val_loss: 0.2267 - val_accuracy: 0.9348\n",
      "Epoch 36/200\n",
      "1875/1875 [==============================] - 5s 3ms/step - loss: 0.2270 - accuracy: 0.9358 - val_loss: 0.2241 - val_accuracy: 0.9354\n",
      "Epoch 37/200\n",
      "1875/1875 [==============================] - 6s 3ms/step - loss: 0.2245 - accuracy: 0.9360 - val_loss: 0.2214 - val_accuracy: 0.9361\n",
      "Epoch 38/200\n",
      "1875/1875 [==============================] - 5s 3ms/step - loss: 0.2219 - accuracy: 0.9371 - val_loss: 0.2201 - val_accuracy: 0.9357\n",
      "Epoch 39/200\n",
      "1875/1875 [==============================] - 6s 3ms/step - loss: 0.2194 - accuracy: 0.9380 - val_loss: 0.2180 - val_accuracy: 0.9357\n",
      "Epoch 40/200\n",
      "1875/1875 [==============================] - 6s 3ms/step - loss: 0.2169 - accuracy: 0.9387 - val_loss: 0.2158 - val_accuracy: 0.9369\n",
      "Epoch 41/200\n",
      "1875/1875 [==============================] - 5s 3ms/step - loss: 0.2145 - accuracy: 0.9394 - val_loss: 0.2133 - val_accuracy: 0.9384\n",
      "Epoch 42/200\n",
      "1875/1875 [==============================] - 6s 3ms/step - loss: 0.2121 - accuracy: 0.9404 - val_loss: 0.2107 - val_accuracy: 0.9384\n",
      "Epoch 43/200\n",
      "1875/1875 [==============================] - 6s 3ms/step - loss: 0.2098 - accuracy: 0.9409 - val_loss: 0.2083 - val_accuracy: 0.9391\n",
      "Epoch 44/200\n",
      "1875/1875 [==============================] - 5s 3ms/step - loss: 0.2074 - accuracy: 0.9413 - val_loss: 0.2073 - val_accuracy: 0.9396\n",
      "Epoch 45/200\n",
      "1875/1875 [==============================] - 4s 2ms/step - loss: 0.2053 - accuracy: 0.9420 - val_loss: 0.2045 - val_accuracy: 0.9398\n",
      "Epoch 46/200\n",
      "1875/1875 [==============================] - 5s 3ms/step - loss: 0.2030 - accuracy: 0.9429 - val_loss: 0.2025 - val_accuracy: 0.9410\n",
      "Epoch 47/200\n",
      "1875/1875 [==============================] - 6s 3ms/step - loss: 0.2008 - accuracy: 0.9434 - val_loss: 0.2008 - val_accuracy: 0.9417\n",
      "Epoch 48/200\n",
      "1875/1875 [==============================] - 5s 2ms/step - loss: 0.1985 - accuracy: 0.9443 - val_loss: 0.1986 - val_accuracy: 0.9415\n",
      "Epoch 49/200\n",
      "1875/1875 [==============================] - 6s 3ms/step - loss: 0.1966 - accuracy: 0.9447 - val_loss: 0.1967 - val_accuracy: 0.9421\n",
      "Epoch 50/200\n",
      "1875/1875 [==============================] - 6s 3ms/step - loss: 0.1944 - accuracy: 0.9455 - val_loss: 0.1955 - val_accuracy: 0.9427\n",
      "Epoch 51/200\n",
      "1875/1875 [==============================] - 6s 3ms/step - loss: 0.1924 - accuracy: 0.9459 - val_loss: 0.1939 - val_accuracy: 0.9430\n",
      "Epoch 52/200\n",
      "1875/1875 [==============================] - 6s 3ms/step - loss: 0.1904 - accuracy: 0.9462 - val_loss: 0.1917 - val_accuracy: 0.9439\n",
      "Epoch 53/200\n",
      "1875/1875 [==============================] - 5s 2ms/step - loss: 0.1883 - accuracy: 0.9466 - val_loss: 0.1892 - val_accuracy: 0.9451\n",
      "Epoch 54/200\n",
      "1875/1875 [==============================] - 6s 3ms/step - loss: 0.1865 - accuracy: 0.9477 - val_loss: 0.1887 - val_accuracy: 0.9453\n",
      "Epoch 55/200\n",
      "1875/1875 [==============================] - 6s 3ms/step - loss: 0.1846 - accuracy: 0.9476 - val_loss: 0.1861 - val_accuracy: 0.9451\n",
      "Epoch 56/200\n",
      "1875/1875 [==============================] - 6s 3ms/step - loss: 0.1827 - accuracy: 0.9487 - val_loss: 0.1844 - val_accuracy: 0.9451\n",
      "Epoch 57/200\n",
      "1875/1875 [==============================] - 5s 3ms/step - loss: 0.1808 - accuracy: 0.9491 - val_loss: 0.1823 - val_accuracy: 0.9470\n",
      "Epoch 58/200\n",
      "1875/1875 [==============================] - 6s 3ms/step - loss: 0.1790 - accuracy: 0.9495 - val_loss: 0.1815 - val_accuracy: 0.9481\n",
      "Epoch 59/200\n",
      "1875/1875 [==============================] - 6s 3ms/step - loss: 0.1772 - accuracy: 0.9502 - val_loss: 0.1793 - val_accuracy: 0.9490\n",
      "Epoch 60/200\n",
      "1875/1875 [==============================] - 5s 3ms/step - loss: 0.1755 - accuracy: 0.9506 - val_loss: 0.1789 - val_accuracy: 0.9481\n",
      "Epoch 61/200\n",
      "1875/1875 [==============================] - 5s 3ms/step - loss: 0.1737 - accuracy: 0.9511 - val_loss: 0.1772 - val_accuracy: 0.9487\n",
      "Epoch 62/200\n",
      "1875/1875 [==============================] - 6s 3ms/step - loss: 0.1721 - accuracy: 0.9514 - val_loss: 0.1754 - val_accuracy: 0.9504\n",
      "Epoch 63/200\n",
      "1875/1875 [==============================] - 5s 3ms/step - loss: 0.1704 - accuracy: 0.9518 - val_loss: 0.1729 - val_accuracy: 0.9508\n",
      "Epoch 64/200\n",
      "1875/1875 [==============================] - 5s 3ms/step - loss: 0.1687 - accuracy: 0.9525 - val_loss: 0.1725 - val_accuracy: 0.9502\n",
      "Epoch 65/200\n",
      "1875/1875 [==============================] - 5s 3ms/step - loss: 0.1671 - accuracy: 0.9528 - val_loss: 0.1705 - val_accuracy: 0.9513\n",
      "Epoch 66/200\n",
      "1875/1875 [==============================] - 5s 3ms/step - loss: 0.1656 - accuracy: 0.9532 - val_loss: 0.1694 - val_accuracy: 0.9520\n",
      "Epoch 67/200\n",
      "1875/1875 [==============================] - 5s 3ms/step - loss: 0.1640 - accuracy: 0.9535 - val_loss: 0.1674 - val_accuracy: 0.9525\n",
      "Epoch 68/200\n",
      "1875/1875 [==============================] - 5s 3ms/step - loss: 0.1623 - accuracy: 0.9541 - val_loss: 0.1670 - val_accuracy: 0.9510\n",
      "Epoch 69/200\n",
      "1875/1875 [==============================] - 5s 3ms/step - loss: 0.1611 - accuracy: 0.9546 - val_loss: 0.1645 - val_accuracy: 0.9528\n",
      "Epoch 70/200\n",
      "1875/1875 [==============================] - 5s 2ms/step - loss: 0.1595 - accuracy: 0.9548 - val_loss: 0.1635 - val_accuracy: 0.9529\n",
      "Epoch 71/200\n",
      "1875/1875 [==============================] - 5s 3ms/step - loss: 0.1581 - accuracy: 0.9551 - val_loss: 0.1623 - val_accuracy: 0.9534\n",
      "Epoch 72/200\n",
      "1875/1875 [==============================] - 6s 3ms/step - loss: 0.1567 - accuracy: 0.9555 - val_loss: 0.1620 - val_accuracy: 0.9529\n",
      "Epoch 73/200\n",
      "1875/1875 [==============================] - 5s 2ms/step - loss: 0.1553 - accuracy: 0.9559 - val_loss: 0.1596 - val_accuracy: 0.9536\n",
      "Epoch 74/200\n",
      "1875/1875 [==============================] - 5s 3ms/step - loss: 0.1539 - accuracy: 0.9562 - val_loss: 0.1593 - val_accuracy: 0.9539\n",
      "Epoch 75/200\n",
      "1875/1875 [==============================] - 6s 3ms/step - loss: 0.1525 - accuracy: 0.9569 - val_loss: 0.1572 - val_accuracy: 0.9544\n",
      "Epoch 76/200\n",
      "1875/1875 [==============================] - 6s 3ms/step - loss: 0.1512 - accuracy: 0.9571 - val_loss: 0.1559 - val_accuracy: 0.9548\n",
      "Epoch 77/200\n",
      "1875/1875 [==============================] - 6s 3ms/step - loss: 0.1499 - accuracy: 0.9575 - val_loss: 0.1551 - val_accuracy: 0.9544\n",
      "Epoch 78/200\n",
      "1875/1875 [==============================] - 6s 3ms/step - loss: 0.1486 - accuracy: 0.9580 - val_loss: 0.1539 - val_accuracy: 0.9551\n",
      "Epoch 79/200\n",
      "1875/1875 [==============================] - 5s 3ms/step - loss: 0.1473 - accuracy: 0.9584 - val_loss: 0.1532 - val_accuracy: 0.9556\n",
      "Epoch 80/200\n",
      "1875/1875 [==============================] - 7s 4ms/step - loss: 0.1461 - accuracy: 0.9586 - val_loss: 0.1518 - val_accuracy: 0.9559\n",
      "Epoch 81/200\n",
      "1875/1875 [==============================] - 6s 3ms/step - loss: 0.1448 - accuracy: 0.9589 - val_loss: 0.1507 - val_accuracy: 0.9564\n",
      "Epoch 82/200\n",
      "1875/1875 [==============================] - 7s 4ms/step - loss: 0.1437 - accuracy: 0.9592 - val_loss: 0.1496 - val_accuracy: 0.9558\n",
      "Epoch 83/200\n",
      "1875/1875 [==============================] - 5s 2ms/step - loss: 0.1424 - accuracy: 0.9601 - val_loss: 0.1483 - val_accuracy: 0.9561\n",
      "Epoch 84/200\n",
      "1875/1875 [==============================] - 5s 2ms/step - loss: 0.1413 - accuracy: 0.9601 - val_loss: 0.1480 - val_accuracy: 0.9567\n",
      "Epoch 85/200\n",
      "1875/1875 [==============================] - 5s 3ms/step - loss: 0.1401 - accuracy: 0.9603 - val_loss: 0.1468 - val_accuracy: 0.9577\n",
      "Epoch 86/200\n",
      "1875/1875 [==============================] - 5s 2ms/step - loss: 0.1389 - accuracy: 0.9605 - val_loss: 0.1457 - val_accuracy: 0.9572\n",
      "Epoch 87/200\n",
      "1875/1875 [==============================] - 5s 3ms/step - loss: 0.1377 - accuracy: 0.9611 - val_loss: 0.1450 - val_accuracy: 0.9570\n",
      "Epoch 88/200\n",
      "1875/1875 [==============================] - 5s 3ms/step - loss: 0.1367 - accuracy: 0.9613 - val_loss: 0.1438 - val_accuracy: 0.9581\n",
      "Epoch 89/200\n",
      "1875/1875 [==============================] - 6s 3ms/step - loss: 0.1355 - accuracy: 0.9614 - val_loss: 0.1430 - val_accuracy: 0.9586\n",
      "Epoch 90/200\n",
      "1875/1875 [==============================] - 5s 3ms/step - loss: 0.1345 - accuracy: 0.9619 - val_loss: 0.1421 - val_accuracy: 0.9581\n",
      "Epoch 91/200\n",
      "1875/1875 [==============================] - 6s 3ms/step - loss: 0.1335 - accuracy: 0.9623 - val_loss: 0.1409 - val_accuracy: 0.9590\n",
      "Epoch 92/200\n",
      "1875/1875 [==============================] - 7s 4ms/step - loss: 0.1324 - accuracy: 0.9625 - val_loss: 0.1397 - val_accuracy: 0.9594\n",
      "Epoch 93/200\n",
      "1875/1875 [==============================] - 6s 3ms/step - loss: 0.1313 - accuracy: 0.9630 - val_loss: 0.1398 - val_accuracy: 0.9588\n",
      "Epoch 94/200\n",
      "1875/1875 [==============================] - 6s 3ms/step - loss: 0.1304 - accuracy: 0.9630 - val_loss: 0.1382 - val_accuracy: 0.9589\n",
      "Epoch 95/200\n",
      "1875/1875 [==============================] - 6s 3ms/step - loss: 0.1293 - accuracy: 0.9635 - val_loss: 0.1376 - val_accuracy: 0.9595\n",
      "Epoch 96/200\n",
      "1875/1875 [==============================] - 6s 3ms/step - loss: 0.1283 - accuracy: 0.9639 - val_loss: 0.1367 - val_accuracy: 0.9601\n",
      "Epoch 97/200\n",
      "1875/1875 [==============================] - 5s 3ms/step - loss: 0.1273 - accuracy: 0.9639 - val_loss: 0.1360 - val_accuracy: 0.9602\n",
      "Epoch 98/200\n",
      "1875/1875 [==============================] - 5s 2ms/step - loss: 0.1264 - accuracy: 0.9642 - val_loss: 0.1350 - val_accuracy: 0.9604\n",
      "Epoch 99/200\n",
      "1875/1875 [==============================] - 5s 3ms/step - loss: 0.1255 - accuracy: 0.9646 - val_loss: 0.1343 - val_accuracy: 0.9601\n",
      "Epoch 100/200\n",
      "1875/1875 [==============================] - 5s 3ms/step - loss: 0.1246 - accuracy: 0.9652 - val_loss: 0.1331 - val_accuracy: 0.9608\n",
      "Epoch 101/200\n",
      "1875/1875 [==============================] - 5s 3ms/step - loss: 0.1236 - accuracy: 0.9653 - val_loss: 0.1327 - val_accuracy: 0.9612\n",
      "Epoch 102/200\n",
      "1875/1875 [==============================] - 6s 3ms/step - loss: 0.1227 - accuracy: 0.9654 - val_loss: 0.1320 - val_accuracy: 0.9609\n",
      "Epoch 103/200\n",
      "1875/1875 [==============================] - 6s 3ms/step - loss: 0.1218 - accuracy: 0.9656 - val_loss: 0.1308 - val_accuracy: 0.9611\n",
      "Epoch 104/200\n",
      "1875/1875 [==============================] - 6s 3ms/step - loss: 0.1208 - accuracy: 0.9661 - val_loss: 0.1305 - val_accuracy: 0.9618\n",
      "Epoch 105/200\n",
      "1875/1875 [==============================] - 6s 3ms/step - loss: 0.1199 - accuracy: 0.9662 - val_loss: 0.1293 - val_accuracy: 0.9619\n",
      "Epoch 106/200\n",
      "1875/1875 [==============================] - 6s 3ms/step - loss: 0.1191 - accuracy: 0.9663 - val_loss: 0.1289 - val_accuracy: 0.9606\n",
      "Epoch 107/200\n",
      "1875/1875 [==============================] - 5s 2ms/step - loss: 0.1183 - accuracy: 0.9667 - val_loss: 0.1282 - val_accuracy: 0.9617\n",
      "Epoch 108/200\n",
      "1875/1875 [==============================] - 4s 2ms/step - loss: 0.1174 - accuracy: 0.9669 - val_loss: 0.1276 - val_accuracy: 0.9626\n",
      "Epoch 109/200\n",
      "1875/1875 [==============================] - 5s 3ms/step - loss: 0.1166 - accuracy: 0.9674 - val_loss: 0.1264 - val_accuracy: 0.9627\n",
      "Epoch 110/200\n",
      "1875/1875 [==============================] - 5s 3ms/step - loss: 0.1157 - accuracy: 0.9674 - val_loss: 0.1268 - val_accuracy: 0.9623\n",
      "Epoch 111/200\n",
      "1875/1875 [==============================] - 6s 3ms/step - loss: 0.1149 - accuracy: 0.9679 - val_loss: 0.1260 - val_accuracy: 0.9626\n",
      "Epoch 112/200\n",
      "1875/1875 [==============================] - 5s 3ms/step - loss: 0.1141 - accuracy: 0.9680 - val_loss: 0.1247 - val_accuracy: 0.9626\n",
      "Epoch 113/200\n",
      "1875/1875 [==============================] - 6s 3ms/step - loss: 0.1133 - accuracy: 0.9681 - val_loss: 0.1238 - val_accuracy: 0.9634\n",
      "Epoch 114/200\n",
      "1875/1875 [==============================] - 6s 3ms/step - loss: 0.1125 - accuracy: 0.9683 - val_loss: 0.1240 - val_accuracy: 0.9635\n",
      "Epoch 115/200\n",
      "1875/1875 [==============================] - 5s 3ms/step - loss: 0.1118 - accuracy: 0.9683 - val_loss: 0.1227 - val_accuracy: 0.9631\n",
      "Epoch 116/200\n",
      "1875/1875 [==============================] - 6s 3ms/step - loss: 0.1110 - accuracy: 0.9687 - val_loss: 0.1219 - val_accuracy: 0.9632\n",
      "Epoch 117/200\n",
      "1875/1875 [==============================] - 5s 3ms/step - loss: 0.1102 - accuracy: 0.9691 - val_loss: 0.1214 - val_accuracy: 0.9637\n",
      "Epoch 118/200\n",
      "1875/1875 [==============================] - 5s 3ms/step - loss: 0.1094 - accuracy: 0.9693 - val_loss: 0.1216 - val_accuracy: 0.9643\n",
      "Epoch 119/200\n",
      "1875/1875 [==============================] - 5s 3ms/step - loss: 0.1088 - accuracy: 0.9694 - val_loss: 0.1203 - val_accuracy: 0.9645\n",
      "Epoch 120/200\n",
      "1875/1875 [==============================] - 5s 3ms/step - loss: 0.1080 - accuracy: 0.9696 - val_loss: 0.1201 - val_accuracy: 0.9646\n",
      "Epoch 121/200\n",
      "1875/1875 [==============================] - 5s 3ms/step - loss: 0.1072 - accuracy: 0.9701 - val_loss: 0.1195 - val_accuracy: 0.9643\n",
      "Epoch 122/200\n",
      "1875/1875 [==============================] - 5s 3ms/step - loss: 0.1066 - accuracy: 0.9700 - val_loss: 0.1183 - val_accuracy: 0.9649\n",
      "Epoch 123/200\n",
      "1875/1875 [==============================] - 5s 3ms/step - loss: 0.1058 - accuracy: 0.9703 - val_loss: 0.1181 - val_accuracy: 0.9649\n",
      "Epoch 124/200\n",
      "1875/1875 [==============================] - 5s 3ms/step - loss: 0.1051 - accuracy: 0.9705 - val_loss: 0.1177 - val_accuracy: 0.9649\n",
      "Epoch 125/200\n",
      "1875/1875 [==============================] - 5s 2ms/step - loss: 0.1044 - accuracy: 0.9707 - val_loss: 0.1169 - val_accuracy: 0.9646\n",
      "Epoch 126/200\n",
      "1875/1875 [==============================] - 6s 3ms/step - loss: 0.1038 - accuracy: 0.9710 - val_loss: 0.1162 - val_accuracy: 0.9647\n",
      "Epoch 127/200\n",
      "1875/1875 [==============================] - 6s 3ms/step - loss: 0.1031 - accuracy: 0.9710 - val_loss: 0.1160 - val_accuracy: 0.9656\n",
      "Epoch 128/200\n",
      "1875/1875 [==============================] - 6s 3ms/step - loss: 0.1025 - accuracy: 0.9712 - val_loss: 0.1150 - val_accuracy: 0.9656\n",
      "Epoch 129/200\n",
      "1875/1875 [==============================] - 5s 3ms/step - loss: 0.1018 - accuracy: 0.9711 - val_loss: 0.1147 - val_accuracy: 0.9653\n",
      "Epoch 130/200\n",
      "1875/1875 [==============================] - 5s 3ms/step - loss: 0.1011 - accuracy: 0.9717 - val_loss: 0.1145 - val_accuracy: 0.9661\n",
      "Epoch 131/200\n",
      "1875/1875 [==============================] - 7s 3ms/step - loss: 0.1005 - accuracy: 0.9719 - val_loss: 0.1141 - val_accuracy: 0.9662\n",
      "Epoch 132/200\n",
      "1875/1875 [==============================] - 5s 2ms/step - loss: 0.0998 - accuracy: 0.9722 - val_loss: 0.1131 - val_accuracy: 0.9656\n",
      "Epoch 133/200\n",
      "1875/1875 [==============================] - 5s 2ms/step - loss: 0.0992 - accuracy: 0.9724 - val_loss: 0.1126 - val_accuracy: 0.9664\n",
      "Epoch 134/200\n",
      "1875/1875 [==============================] - 5s 3ms/step - loss: 0.0986 - accuracy: 0.9723 - val_loss: 0.1127 - val_accuracy: 0.9656\n",
      "Epoch 135/200\n",
      "1875/1875 [==============================] - 5s 2ms/step - loss: 0.0979 - accuracy: 0.9726 - val_loss: 0.1125 - val_accuracy: 0.9665\n",
      "Epoch 136/200\n",
      "1875/1875 [==============================] - 5s 2ms/step - loss: 0.0974 - accuracy: 0.9728 - val_loss: 0.1116 - val_accuracy: 0.9663\n",
      "Epoch 137/200\n",
      "1875/1875 [==============================] - 5s 3ms/step - loss: 0.0968 - accuracy: 0.9731 - val_loss: 0.1106 - val_accuracy: 0.9670\n",
      "Epoch 138/200\n",
      "1875/1875 [==============================] - 5s 3ms/step - loss: 0.0961 - accuracy: 0.9731 - val_loss: 0.1103 - val_accuracy: 0.9661\n",
      "Epoch 139/200\n",
      "1875/1875 [==============================] - 5s 3ms/step - loss: 0.0956 - accuracy: 0.9733 - val_loss: 0.1096 - val_accuracy: 0.9664\n",
      "Epoch 140/200\n",
      "1875/1875 [==============================] - 5s 3ms/step - loss: 0.0950 - accuracy: 0.9735 - val_loss: 0.1092 - val_accuracy: 0.9671\n",
      "Epoch 141/200\n",
      "1875/1875 [==============================] - 5s 3ms/step - loss: 0.0944 - accuracy: 0.9737 - val_loss: 0.1087 - val_accuracy: 0.9670\n",
      "Epoch 142/200\n",
      "1875/1875 [==============================] - 6s 3ms/step - loss: 0.0939 - accuracy: 0.9739 - val_loss: 0.1082 - val_accuracy: 0.9677\n",
      "Epoch 143/200\n",
      "1875/1875 [==============================] - 6s 3ms/step - loss: 0.0932 - accuracy: 0.9738 - val_loss: 0.1079 - val_accuracy: 0.9675\n",
      "Epoch 144/200\n",
      "1875/1875 [==============================] - 5s 3ms/step - loss: 0.0927 - accuracy: 0.9743 - val_loss: 0.1075 - val_accuracy: 0.9675\n",
      "Epoch 145/200\n",
      "1875/1875 [==============================] - 5s 3ms/step - loss: 0.0922 - accuracy: 0.9741 - val_loss: 0.1070 - val_accuracy: 0.9677\n",
      "Epoch 146/200\n",
      "1875/1875 [==============================] - 6s 3ms/step - loss: 0.0916 - accuracy: 0.9746 - val_loss: 0.1067 - val_accuracy: 0.9670\n",
      "Epoch 147/200\n",
      "1875/1875 [==============================] - 5s 3ms/step - loss: 0.0911 - accuracy: 0.9747 - val_loss: 0.1062 - val_accuracy: 0.9678\n",
      "Epoch 148/200\n",
      "1875/1875 [==============================] - 5s 3ms/step - loss: 0.0905 - accuracy: 0.9748 - val_loss: 0.1058 - val_accuracy: 0.9679\n",
      "Epoch 149/200\n",
      "1875/1875 [==============================] - 6s 3ms/step - loss: 0.0900 - accuracy: 0.9748 - val_loss: 0.1061 - val_accuracy: 0.9679\n",
      "Epoch 150/200\n",
      "1875/1875 [==============================] - 5s 3ms/step - loss: 0.0894 - accuracy: 0.9750 - val_loss: 0.1050 - val_accuracy: 0.9683\n",
      "Epoch 151/200\n",
      "1875/1875 [==============================] - 5s 2ms/step - loss: 0.0889 - accuracy: 0.9755 - val_loss: 0.1051 - val_accuracy: 0.9682\n",
      "Epoch 152/200\n",
      "1875/1875 [==============================] - 5s 3ms/step - loss: 0.0884 - accuracy: 0.9754 - val_loss: 0.1044 - val_accuracy: 0.9687\n",
      "Epoch 153/200\n",
      "1875/1875 [==============================] - 5s 2ms/step - loss: 0.0879 - accuracy: 0.9756 - val_loss: 0.1036 - val_accuracy: 0.9685\n",
      "Epoch 154/200\n",
      "1875/1875 [==============================] - 5s 3ms/step - loss: 0.0874 - accuracy: 0.9758 - val_loss: 0.1039 - val_accuracy: 0.9686\n",
      "Epoch 155/200\n",
      "1875/1875 [==============================] - 6s 3ms/step - loss: 0.0869 - accuracy: 0.9758 - val_loss: 0.1032 - val_accuracy: 0.9685\n",
      "Epoch 156/200\n",
      "1875/1875 [==============================] - 6s 3ms/step - loss: 0.0863 - accuracy: 0.9761 - val_loss: 0.1032 - val_accuracy: 0.9693\n",
      "Epoch 157/200\n",
      "1875/1875 [==============================] - 5s 3ms/step - loss: 0.0859 - accuracy: 0.9761 - val_loss: 0.1024 - val_accuracy: 0.9692\n",
      "Epoch 158/200\n",
      "1875/1875 [==============================] - 5s 2ms/step - loss: 0.0854 - accuracy: 0.9764 - val_loss: 0.1019 - val_accuracy: 0.9699\n",
      "Epoch 159/200\n",
      "1875/1875 [==============================] - 5s 2ms/step - loss: 0.0849 - accuracy: 0.9766 - val_loss: 0.1017 - val_accuracy: 0.9693\n",
      "Epoch 160/200\n",
      "1875/1875 [==============================] - 5s 3ms/step - loss: 0.0844 - accuracy: 0.9766 - val_loss: 0.1012 - val_accuracy: 0.9696\n",
      "Epoch 161/200\n",
      "1875/1875 [==============================] - 6s 3ms/step - loss: 0.0839 - accuracy: 0.9769 - val_loss: 0.1016 - val_accuracy: 0.9693\n",
      "Epoch 162/200\n",
      "1875/1875 [==============================] - 5s 3ms/step - loss: 0.0835 - accuracy: 0.9767 - val_loss: 0.1004 - val_accuracy: 0.9700\n",
      "Epoch 163/200\n",
      "1875/1875 [==============================] - 5s 3ms/step - loss: 0.0830 - accuracy: 0.9770 - val_loss: 0.1001 - val_accuracy: 0.9703\n",
      "Epoch 164/200\n",
      "1875/1875 [==============================] - 5s 3ms/step - loss: 0.0826 - accuracy: 0.9772 - val_loss: 0.0997 - val_accuracy: 0.9700\n",
      "Epoch 165/200\n",
      "1875/1875 [==============================] - 5s 3ms/step - loss: 0.0821 - accuracy: 0.9775 - val_loss: 0.1000 - val_accuracy: 0.9695\n",
      "Epoch 166/200\n",
      "1875/1875 [==============================] - 6s 3ms/step - loss: 0.0817 - accuracy: 0.9778 - val_loss: 0.0992 - val_accuracy: 0.9691\n",
      "Epoch 167/200\n",
      "1875/1875 [==============================] - 5s 3ms/step - loss: 0.0812 - accuracy: 0.9779 - val_loss: 0.0987 - val_accuracy: 0.9704\n",
      "Epoch 168/200\n",
      "1875/1875 [==============================] - 6s 3ms/step - loss: 0.0807 - accuracy: 0.9779 - val_loss: 0.0990 - val_accuracy: 0.9704\n",
      "Epoch 169/200\n",
      "1875/1875 [==============================] - 6s 3ms/step - loss: 0.0802 - accuracy: 0.9782 - val_loss: 0.0982 - val_accuracy: 0.9702\n",
      "Epoch 170/200\n",
      "1875/1875 [==============================] - 6s 3ms/step - loss: 0.0799 - accuracy: 0.9782 - val_loss: 0.0978 - val_accuracy: 0.9710\n",
      "Epoch 171/200\n",
      "1875/1875 [==============================] - 6s 3ms/step - loss: 0.0794 - accuracy: 0.9783 - val_loss: 0.0973 - val_accuracy: 0.9718\n",
      "Epoch 172/200\n",
      "1875/1875 [==============================] - 5s 3ms/step - loss: 0.0789 - accuracy: 0.9783 - val_loss: 0.0974 - val_accuracy: 0.9707\n",
      "Epoch 173/200\n",
      "1875/1875 [==============================] - 5s 2ms/step - loss: 0.0786 - accuracy: 0.9782 - val_loss: 0.0969 - val_accuracy: 0.9713\n",
      "Epoch 174/200\n",
      "1875/1875 [==============================] - 5s 3ms/step - loss: 0.0782 - accuracy: 0.9786 - val_loss: 0.0963 - val_accuracy: 0.9714\n",
      "Epoch 175/200\n",
      "1875/1875 [==============================] - 7s 4ms/step - loss: 0.0777 - accuracy: 0.9788 - val_loss: 0.0959 - val_accuracy: 0.9716\n",
      "Epoch 176/200\n",
      "1875/1875 [==============================] - 6s 3ms/step - loss: 0.0773 - accuracy: 0.9787 - val_loss: 0.0958 - val_accuracy: 0.9714\n",
      "Epoch 177/200\n",
      "1875/1875 [==============================] - 6s 3ms/step - loss: 0.0769 - accuracy: 0.9790 - val_loss: 0.0955 - val_accuracy: 0.9716\n",
      "Epoch 178/200\n",
      "1875/1875 [==============================] - 5s 3ms/step - loss: 0.0765 - accuracy: 0.9792 - val_loss: 0.0955 - val_accuracy: 0.9720\n",
      "Epoch 179/200\n",
      "1875/1875 [==============================] - 5s 2ms/step - loss: 0.0761 - accuracy: 0.9793 - val_loss: 0.0954 - val_accuracy: 0.9708\n",
      "Epoch 180/200\n",
      "1875/1875 [==============================] - 5s 2ms/step - loss: 0.0757 - accuracy: 0.9793 - val_loss: 0.0950 - val_accuracy: 0.9713\n",
      "Epoch 181/200\n",
      "1875/1875 [==============================] - 5s 3ms/step - loss: 0.0753 - accuracy: 0.9795 - val_loss: 0.0945 - val_accuracy: 0.9718\n",
      "Epoch 182/200\n",
      "1875/1875 [==============================] - 5s 3ms/step - loss: 0.0749 - accuracy: 0.9797 - val_loss: 0.0941 - val_accuracy: 0.9713\n",
      "Epoch 183/200\n",
      "1875/1875 [==============================] - 5s 3ms/step - loss: 0.0745 - accuracy: 0.9796 - val_loss: 0.0940 - val_accuracy: 0.9720\n",
      "Epoch 184/200\n",
      "1875/1875 [==============================] - 5s 3ms/step - loss: 0.0741 - accuracy: 0.9798 - val_loss: 0.0934 - val_accuracy: 0.9716\n",
      "Epoch 185/200\n",
      "1875/1875 [==============================] - 5s 3ms/step - loss: 0.0737 - accuracy: 0.9801 - val_loss: 0.0932 - val_accuracy: 0.9719\n",
      "Epoch 186/200\n",
      "1875/1875 [==============================] - 5s 3ms/step - loss: 0.0733 - accuracy: 0.9803 - val_loss: 0.0928 - val_accuracy: 0.9719\n",
      "Epoch 187/200\n",
      "1875/1875 [==============================] - 5s 3ms/step - loss: 0.0730 - accuracy: 0.9801 - val_loss: 0.0928 - val_accuracy: 0.9723\n",
      "Epoch 188/200\n",
      "1875/1875 [==============================] - 5s 3ms/step - loss: 0.0726 - accuracy: 0.9803 - val_loss: 0.0927 - val_accuracy: 0.9718\n",
      "Epoch 189/200\n",
      "1875/1875 [==============================] - 5s 3ms/step - loss: 0.0722 - accuracy: 0.9807 - val_loss: 0.0924 - val_accuracy: 0.9718\n",
      "Epoch 190/200\n",
      "1875/1875 [==============================] - 6s 3ms/step - loss: 0.0718 - accuracy: 0.9806 - val_loss: 0.0917 - val_accuracy: 0.9721\n",
      "Epoch 191/200\n",
      "1875/1875 [==============================] - 5s 3ms/step - loss: 0.0715 - accuracy: 0.9810 - val_loss: 0.0921 - val_accuracy: 0.9715\n",
      "Epoch 192/200\n",
      "1875/1875 [==============================] - 5s 3ms/step - loss: 0.0712 - accuracy: 0.9807 - val_loss: 0.0912 - val_accuracy: 0.9724\n",
      "Epoch 193/200\n",
      "1875/1875 [==============================] - 5s 2ms/step - loss: 0.0708 - accuracy: 0.9809 - val_loss: 0.0914 - val_accuracy: 0.9719\n",
      "Epoch 194/200\n",
      "1875/1875 [==============================] - 5s 3ms/step - loss: 0.0704 - accuracy: 0.9809 - val_loss: 0.0910 - val_accuracy: 0.9722\n",
      "Epoch 195/200\n",
      "1875/1875 [==============================] - 5s 2ms/step - loss: 0.0700 - accuracy: 0.9812 - val_loss: 0.0911 - val_accuracy: 0.9727\n",
      "Epoch 196/200\n",
      "1875/1875 [==============================] - 5s 2ms/step - loss: 0.0697 - accuracy: 0.9813 - val_loss: 0.0901 - val_accuracy: 0.9726\n",
      "Epoch 197/200\n",
      "1875/1875 [==============================] - 5s 2ms/step - loss: 0.0694 - accuracy: 0.9813 - val_loss: 0.0904 - val_accuracy: 0.9724\n",
      "Epoch 198/200\n",
      "1875/1875 [==============================] - 5s 3ms/step - loss: 0.0690 - accuracy: 0.9814 - val_loss: 0.0903 - val_accuracy: 0.9724\n",
      "Epoch 199/200\n",
      "1875/1875 [==============================] - 6s 3ms/step - loss: 0.0687 - accuracy: 0.9816 - val_loss: 0.0899 - val_accuracy: 0.9721\n",
      "Epoch 200/200\n",
      "1875/1875 [==============================] - 6s 3ms/step - loss: 0.0683 - accuracy: 0.9814 - val_loss: 0.0898 - val_accuracy: 0.9724\n"
     ]
    },
    {
     "data": {
      "image/png": "[encoded data removed]",
      "text/plain": [
       "<Figure size 640x480 with 1 Axes>"
      ]
     },
     "metadata": {},
     "output_type": "display_data"
    }
   ],
   "source": [
    "# Define the model\n",
    "model = tf.keras.models.Sequential([\n",
    "    tf.keras.layers.Dense(200, activation='sigmoid', input_shape=(784,)),\n",
    "    tf.keras.layers.Dense(10, activation='softmax')\n",
    "])\n",
    "\n",
    "\n",
    "# Compile the model\n",
    "model.compile(optimizer='sgd', \n",
    "              loss='categorical_crossentropy', \n",
    "              metrics=['accuracy'])\n",
    "model.summary()\n",
    "# Train the model and store history\n",
    "history = model.fit(train_images, train_labels, epochs=200, batch_size=32, validation_data=(test_images, test_labels))\n",
    "\n",
    "# Plot the learning curve\n",
    "plt.plot(history.history['loss'], label='Training Loss')\n",
    "plt.plot(history.history['val_loss'], label='Validation Loss')\n",
    "plt.xlabel('Epoch')\n",
    "plt.ylabel('Loss')\n",
    "plt.title('Learning Curve')\n",
    "plt.legend()\n",
    "plt.show()\n",
    "\n",
    "\n",
    "\n",
    "\n",
    "\n",
    "\n"
   ]
  },
  {
   "cell_type": "code",
   "execution_count": 33,
   "metadata": {},
   "outputs": [
    {
     "data": {
      "image/png": "[encoded data removed]",
      "text/plain": [
       "<Figure size 640x480 with 1 Axes>"
      ]
     },
     "metadata": {},
     "output_type": "display_data"
    }
   ],
   "source": [
    "plt.plot(history.history['loss'], label='Training Loss')\n",
    "plt.plot(history.history['val_loss'], label='Validation Loss')\n",
    "plt.xlabel('Epoch')\n",
    "plt.ylabel('Loss')\n",
    "plt.title('Tensorflow Implementation')\n",
    "plt.legend(['Training Loss', 'Validation Loss'])\n",
    "plt.show()"
   ]
  },
  {
   "cell_type": "code",
   "execution_count": 34,
   "metadata": {},
   "outputs": [
    {
     "data": {
      "image/png": "[encoded data removed]",
      "text/plain": [
       "<Figure size 640x480 with 1 Axes>"
      ]
     },
     "metadata": {},
     "output_type": "display_data"
    }
   ],
   "source": [
    "plt.plot(history.history['accuracy'], label='Training Accuracy')\n",
    "plt.plot(history.history['val_accuracy'], label='Validation Accuracy')\n",
    "plt.xlabel('Epoch')\n",
    "plt.ylabel('Loss')\n",
    "plt.title('Tensorflow Implementation')\n",
    "plt.legend(['Training Accuracy', 'Validation Accuracy'])\n",
    "plt.show()"
   ]
  },
  {
   "cell_type": "code",
   "execution_count": null,
   "metadata": {},
   "outputs": [],
   "source": []
  }
 ],
 "metadata": {
  "kernelspec": {
   "display_name": "ECE760",
   "language": "python",
   "name": "python3"
  },
  "language_info": {
   "codemirror_mode": {
    "name": "ipython",
    "version": 3
   },
   "file_extension": ".py",
   "mimetype": "text/x-python",
   "name": "python",
   "nbconvert_exporter": "python",
   "pygments_lexer": "ipython3",
   "version": "3.11.5"
  }
 },
 "nbformat": 4,
 "nbformat_minor": 2
}
